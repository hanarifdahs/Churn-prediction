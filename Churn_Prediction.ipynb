{
  "nbformat": 4,
  "nbformat_minor": 0,
  "metadata": {
    "colab": {
      "name": "Churn Prediction.ipynb",
      "provenance": [],
      "collapsed_sections": []
    },
    "kernelspec": {
      "name": "python3",
      "display_name": "Python 3"
    },
    "language_info": {
      "name": "python"
    }
  },
  "cells": [
    {
      "cell_type": "markdown",
      "source": [
        "#Introduction\n",
        "\n",
        "---\n",
        "\n",
        "**Goal** : Predict behavior to retain customers\n",
        "\n",
        "##Dataset Information\n",
        "\n",
        "Each row represents a customer, each column contains customer’s attributes described on the column Metadata.\n",
        "\n",
        "The data set includes information about:\n",
        "\n",
        "Customers who left within the last month \n",
        "\n",
        "* the column is called Churn\n",
        "Services that each customer has signed up for \n",
        "\n",
        "* phone, multiple lines, internet, online security, online backup, device protection, tech support, and streaming TV and movies\n",
        "Customer account information \n",
        "\n",
        "* how long they’ve been a customer, contract, payment method, paperless billing, monthly charges, and total charges\n",
        "Demographic info about customers \n",
        "\n",
        "* gender, age range, and if they have partners and dependents"
      ],
      "metadata": {
        "id": "_aL9SVfhsTCA"
      }
    },
    {
      "cell_type": "code",
      "source": [
        "!pip install feature-engine\n",
        "import warnings \n",
        "warnings.filterwarnings('ignore')"
      ],
      "metadata": {
        "colab": {
          "base_uri": "https://localhost:8080/"
        },
        "id": "GFbkvw6zC_bT",
        "outputId": "85ae04c2-0e76-40fe-fbe4-052295acc524"
      },
      "execution_count": null,
      "outputs": [
        {
          "output_type": "stream",
          "name": "stdout",
          "text": [
            "Collecting feature-engine\n",
            "  Downloading feature_engine-1.2.0-py2.py3-none-any.whl (205 kB)\n",
            "\u001b[?25l\r\u001b[K     |█▋                              | 10 kB 19.0 MB/s eta 0:00:01\r\u001b[K     |███▏                            | 20 kB 11.3 MB/s eta 0:00:01\r\u001b[K     |████▉                           | 30 kB 8.8 MB/s eta 0:00:01\r\u001b[K     |██████▍                         | 40 kB 8.2 MB/s eta 0:00:01\r\u001b[K     |████████                        | 51 kB 5.0 MB/s eta 0:00:01\r\u001b[K     |█████████▋                      | 61 kB 5.6 MB/s eta 0:00:01\r\u001b[K     |███████████▏                    | 71 kB 5.5 MB/s eta 0:00:01\r\u001b[K     |████████████▊                   | 81 kB 6.2 MB/s eta 0:00:01\r\u001b[K     |██████████████▍                 | 92 kB 4.7 MB/s eta 0:00:01\r\u001b[K     |████████████████                | 102 kB 5.0 MB/s eta 0:00:01\r\u001b[K     |█████████████████▋              | 112 kB 5.0 MB/s eta 0:00:01\r\u001b[K     |███████████████████▏            | 122 kB 5.0 MB/s eta 0:00:01\r\u001b[K     |████████████████████▊           | 133 kB 5.0 MB/s eta 0:00:01\r\u001b[K     |██████████████████████▍         | 143 kB 5.0 MB/s eta 0:00:01\r\u001b[K     |████████████████████████        | 153 kB 5.0 MB/s eta 0:00:01\r\u001b[K     |█████████████████████████▌      | 163 kB 5.0 MB/s eta 0:00:01\r\u001b[K     |███████████████████████████▏    | 174 kB 5.0 MB/s eta 0:00:01\r\u001b[K     |████████████████████████████▊   | 184 kB 5.0 MB/s eta 0:00:01\r\u001b[K     |██████████████████████████████▍ | 194 kB 5.0 MB/s eta 0:00:01\r\u001b[K     |████████████████████████████████| 204 kB 5.0 MB/s eta 0:00:01\r\u001b[K     |████████████████████████████████| 205 kB 5.0 MB/s \n",
            "\u001b[?25hRequirement already satisfied: scipy>=1.4.1 in /usr/local/lib/python3.7/dist-packages (from feature-engine) (1.4.1)\n",
            "Collecting statsmodels>=0.11.1\n",
            "  Downloading statsmodels-0.13.1-cp37-cp37m-manylinux_2_17_x86_64.manylinux2014_x86_64.whl (9.8 MB)\n",
            "\u001b[K     |████████████████████████████████| 9.8 MB 34.6 MB/s \n",
            "\u001b[?25hRequirement already satisfied: scikit-learn>=0.22.2 in /usr/local/lib/python3.7/dist-packages (from feature-engine) (1.0.2)\n",
            "Requirement already satisfied: pandas>=1.0.3 in /usr/local/lib/python3.7/dist-packages (from feature-engine) (1.1.5)\n",
            "Requirement already satisfied: numpy>=1.18.2 in /usr/local/lib/python3.7/dist-packages (from feature-engine) (1.19.5)\n",
            "Requirement already satisfied: pytz>=2017.2 in /usr/local/lib/python3.7/dist-packages (from pandas>=1.0.3->feature-engine) (2018.9)\n",
            "Requirement already satisfied: python-dateutil>=2.7.3 in /usr/local/lib/python3.7/dist-packages (from pandas>=1.0.3->feature-engine) (2.8.2)\n",
            "Requirement already satisfied: six>=1.5 in /usr/local/lib/python3.7/dist-packages (from python-dateutil>=2.7.3->pandas>=1.0.3->feature-engine) (1.15.0)\n",
            "Requirement already satisfied: joblib>=0.11 in /usr/local/lib/python3.7/dist-packages (from scikit-learn>=0.22.2->feature-engine) (1.1.0)\n",
            "Requirement already satisfied: threadpoolctl>=2.0.0 in /usr/local/lib/python3.7/dist-packages (from scikit-learn>=0.22.2->feature-engine) (3.0.0)\n",
            "Requirement already satisfied: patsy>=0.5.2 in /usr/local/lib/python3.7/dist-packages (from statsmodels>=0.11.1->feature-engine) (0.5.2)\n",
            "Installing collected packages: statsmodels, feature-engine\n",
            "  Attempting uninstall: statsmodels\n",
            "    Found existing installation: statsmodels 0.10.2\n",
            "    Uninstalling statsmodels-0.10.2:\n",
            "      Successfully uninstalled statsmodels-0.10.2\n",
            "Successfully installed feature-engine-1.2.0 statsmodels-0.13.1\n"
          ]
        }
      ]
    },
    {
      "cell_type": "code",
      "execution_count": null,
      "metadata": {
        "id": "qrAOI7TZsOGu"
      },
      "outputs": [],
      "source": [
        "import pandas as pd\n",
        "import numpy as np\n",
        "import matplotlib.pyplot as plt\n",
        "import seaborn as sns\n",
        "\n",
        "from sklearn.model_selection import train_test_split\n",
        "from feature_engine.outliers import Winsorizer\n",
        "from sklearn.ensemble import ExtraTreesClassifier\n",
        "from imblearn.over_sampling import SMOTE\n",
        "import tensorflow as tf\n",
        "from tensorflow.keras.models import Sequential\n",
        "from tensorflow.keras.layers import Dense, Dropout, BatchNormalization\n",
        "from tensorflow.keras.optimizers import SGD\n",
        "from keras.regularizers import l2"
      ]
    },
    {
      "cell_type": "markdown",
      "source": [
        "#Data Loading"
      ],
      "metadata": {
        "id": "oNzXgf8NwQJl"
      }
    },
    {
      "cell_type": "code",
      "source": [
        "df = pd.read_csv('https://raw.githubusercontent.com/hanarifdahs/datasets/master/WA_Fn-UseC_-Telco-Customer-Churn.csv')\n",
        "df"
      ],
      "metadata": {
        "colab": {
          "base_uri": "https://localhost:8080/",
          "height": 661
        },
        "id": "sTIVwk4CwGbc",
        "outputId": "14e00281-d68b-4996-ccfb-5514f7b711ab"
      },
      "execution_count": null,
      "outputs": [
        {
          "output_type": "execute_result",
          "data": {
            "text/html": [
              "\n",
              "  <div id=\"df-c3024550-a72f-4054-baf2-99b38031123f\">\n",
              "    <div class=\"colab-df-container\">\n",
              "      <div>\n",
              "<style scoped>\n",
              "    .dataframe tbody tr th:only-of-type {\n",
              "        vertical-align: middle;\n",
              "    }\n",
              "\n",
              "    .dataframe tbody tr th {\n",
              "        vertical-align: top;\n",
              "    }\n",
              "\n",
              "    .dataframe thead th {\n",
              "        text-align: right;\n",
              "    }\n",
              "</style>\n",
              "<table border=\"1\" class=\"dataframe\">\n",
              "  <thead>\n",
              "    <tr style=\"text-align: right;\">\n",
              "      <th></th>\n",
              "      <th>customerID</th>\n",
              "      <th>gender</th>\n",
              "      <th>SeniorCitizen</th>\n",
              "      <th>Partner</th>\n",
              "      <th>Dependents</th>\n",
              "      <th>tenure</th>\n",
              "      <th>PhoneService</th>\n",
              "      <th>MultipleLines</th>\n",
              "      <th>InternetService</th>\n",
              "      <th>OnlineSecurity</th>\n",
              "      <th>OnlineBackup</th>\n",
              "      <th>DeviceProtection</th>\n",
              "      <th>TechSupport</th>\n",
              "      <th>StreamingTV</th>\n",
              "      <th>StreamingMovies</th>\n",
              "      <th>Contract</th>\n",
              "      <th>PaperlessBilling</th>\n",
              "      <th>PaymentMethod</th>\n",
              "      <th>MonthlyCharges</th>\n",
              "      <th>TotalCharges</th>\n",
              "      <th>Churn</th>\n",
              "    </tr>\n",
              "  </thead>\n",
              "  <tbody>\n",
              "    <tr>\n",
              "      <th>0</th>\n",
              "      <td>7590-VHVEG</td>\n",
              "      <td>Female</td>\n",
              "      <td>0</td>\n",
              "      <td>Yes</td>\n",
              "      <td>No</td>\n",
              "      <td>1</td>\n",
              "      <td>No</td>\n",
              "      <td>No phone service</td>\n",
              "      <td>DSL</td>\n",
              "      <td>No</td>\n",
              "      <td>Yes</td>\n",
              "      <td>No</td>\n",
              "      <td>No</td>\n",
              "      <td>No</td>\n",
              "      <td>No</td>\n",
              "      <td>Month-to-month</td>\n",
              "      <td>Yes</td>\n",
              "      <td>Electronic check</td>\n",
              "      <td>29.85</td>\n",
              "      <td>29.85</td>\n",
              "      <td>No</td>\n",
              "    </tr>\n",
              "    <tr>\n",
              "      <th>1</th>\n",
              "      <td>5575-GNVDE</td>\n",
              "      <td>Male</td>\n",
              "      <td>0</td>\n",
              "      <td>No</td>\n",
              "      <td>No</td>\n",
              "      <td>34</td>\n",
              "      <td>Yes</td>\n",
              "      <td>No</td>\n",
              "      <td>DSL</td>\n",
              "      <td>Yes</td>\n",
              "      <td>No</td>\n",
              "      <td>Yes</td>\n",
              "      <td>No</td>\n",
              "      <td>No</td>\n",
              "      <td>No</td>\n",
              "      <td>One year</td>\n",
              "      <td>No</td>\n",
              "      <td>Mailed check</td>\n",
              "      <td>56.95</td>\n",
              "      <td>1889.5</td>\n",
              "      <td>No</td>\n",
              "    </tr>\n",
              "    <tr>\n",
              "      <th>2</th>\n",
              "      <td>3668-QPYBK</td>\n",
              "      <td>Male</td>\n",
              "      <td>0</td>\n",
              "      <td>No</td>\n",
              "      <td>No</td>\n",
              "      <td>2</td>\n",
              "      <td>Yes</td>\n",
              "      <td>No</td>\n",
              "      <td>DSL</td>\n",
              "      <td>Yes</td>\n",
              "      <td>Yes</td>\n",
              "      <td>No</td>\n",
              "      <td>No</td>\n",
              "      <td>No</td>\n",
              "      <td>No</td>\n",
              "      <td>Month-to-month</td>\n",
              "      <td>Yes</td>\n",
              "      <td>Mailed check</td>\n",
              "      <td>53.85</td>\n",
              "      <td>108.15</td>\n",
              "      <td>Yes</td>\n",
              "    </tr>\n",
              "    <tr>\n",
              "      <th>3</th>\n",
              "      <td>7795-CFOCW</td>\n",
              "      <td>Male</td>\n",
              "      <td>0</td>\n",
              "      <td>No</td>\n",
              "      <td>No</td>\n",
              "      <td>45</td>\n",
              "      <td>No</td>\n",
              "      <td>No phone service</td>\n",
              "      <td>DSL</td>\n",
              "      <td>Yes</td>\n",
              "      <td>No</td>\n",
              "      <td>Yes</td>\n",
              "      <td>Yes</td>\n",
              "      <td>No</td>\n",
              "      <td>No</td>\n",
              "      <td>One year</td>\n",
              "      <td>No</td>\n",
              "      <td>Bank transfer (automatic)</td>\n",
              "      <td>42.30</td>\n",
              "      <td>1840.75</td>\n",
              "      <td>No</td>\n",
              "    </tr>\n",
              "    <tr>\n",
              "      <th>4</th>\n",
              "      <td>9237-HQITU</td>\n",
              "      <td>Female</td>\n",
              "      <td>0</td>\n",
              "      <td>No</td>\n",
              "      <td>No</td>\n",
              "      <td>2</td>\n",
              "      <td>Yes</td>\n",
              "      <td>No</td>\n",
              "      <td>Fiber optic</td>\n",
              "      <td>No</td>\n",
              "      <td>No</td>\n",
              "      <td>No</td>\n",
              "      <td>No</td>\n",
              "      <td>No</td>\n",
              "      <td>No</td>\n",
              "      <td>Month-to-month</td>\n",
              "      <td>Yes</td>\n",
              "      <td>Electronic check</td>\n",
              "      <td>70.70</td>\n",
              "      <td>151.65</td>\n",
              "      <td>Yes</td>\n",
              "    </tr>\n",
              "    <tr>\n",
              "      <th>...</th>\n",
              "      <td>...</td>\n",
              "      <td>...</td>\n",
              "      <td>...</td>\n",
              "      <td>...</td>\n",
              "      <td>...</td>\n",
              "      <td>...</td>\n",
              "      <td>...</td>\n",
              "      <td>...</td>\n",
              "      <td>...</td>\n",
              "      <td>...</td>\n",
              "      <td>...</td>\n",
              "      <td>...</td>\n",
              "      <td>...</td>\n",
              "      <td>...</td>\n",
              "      <td>...</td>\n",
              "      <td>...</td>\n",
              "      <td>...</td>\n",
              "      <td>...</td>\n",
              "      <td>...</td>\n",
              "      <td>...</td>\n",
              "      <td>...</td>\n",
              "    </tr>\n",
              "    <tr>\n",
              "      <th>7038</th>\n",
              "      <td>6840-RESVB</td>\n",
              "      <td>Male</td>\n",
              "      <td>0</td>\n",
              "      <td>Yes</td>\n",
              "      <td>Yes</td>\n",
              "      <td>24</td>\n",
              "      <td>Yes</td>\n",
              "      <td>Yes</td>\n",
              "      <td>DSL</td>\n",
              "      <td>Yes</td>\n",
              "      <td>No</td>\n",
              "      <td>Yes</td>\n",
              "      <td>Yes</td>\n",
              "      <td>Yes</td>\n",
              "      <td>Yes</td>\n",
              "      <td>One year</td>\n",
              "      <td>Yes</td>\n",
              "      <td>Mailed check</td>\n",
              "      <td>84.80</td>\n",
              "      <td>1990.5</td>\n",
              "      <td>No</td>\n",
              "    </tr>\n",
              "    <tr>\n",
              "      <th>7039</th>\n",
              "      <td>2234-XADUH</td>\n",
              "      <td>Female</td>\n",
              "      <td>0</td>\n",
              "      <td>Yes</td>\n",
              "      <td>Yes</td>\n",
              "      <td>72</td>\n",
              "      <td>Yes</td>\n",
              "      <td>Yes</td>\n",
              "      <td>Fiber optic</td>\n",
              "      <td>No</td>\n",
              "      <td>Yes</td>\n",
              "      <td>Yes</td>\n",
              "      <td>No</td>\n",
              "      <td>Yes</td>\n",
              "      <td>Yes</td>\n",
              "      <td>One year</td>\n",
              "      <td>Yes</td>\n",
              "      <td>Credit card (automatic)</td>\n",
              "      <td>103.20</td>\n",
              "      <td>7362.9</td>\n",
              "      <td>No</td>\n",
              "    </tr>\n",
              "    <tr>\n",
              "      <th>7040</th>\n",
              "      <td>4801-JZAZL</td>\n",
              "      <td>Female</td>\n",
              "      <td>0</td>\n",
              "      <td>Yes</td>\n",
              "      <td>Yes</td>\n",
              "      <td>11</td>\n",
              "      <td>No</td>\n",
              "      <td>No phone service</td>\n",
              "      <td>DSL</td>\n",
              "      <td>Yes</td>\n",
              "      <td>No</td>\n",
              "      <td>No</td>\n",
              "      <td>No</td>\n",
              "      <td>No</td>\n",
              "      <td>No</td>\n",
              "      <td>Month-to-month</td>\n",
              "      <td>Yes</td>\n",
              "      <td>Electronic check</td>\n",
              "      <td>29.60</td>\n",
              "      <td>346.45</td>\n",
              "      <td>No</td>\n",
              "    </tr>\n",
              "    <tr>\n",
              "      <th>7041</th>\n",
              "      <td>8361-LTMKD</td>\n",
              "      <td>Male</td>\n",
              "      <td>1</td>\n",
              "      <td>Yes</td>\n",
              "      <td>No</td>\n",
              "      <td>4</td>\n",
              "      <td>Yes</td>\n",
              "      <td>Yes</td>\n",
              "      <td>Fiber optic</td>\n",
              "      <td>No</td>\n",
              "      <td>No</td>\n",
              "      <td>No</td>\n",
              "      <td>No</td>\n",
              "      <td>No</td>\n",
              "      <td>No</td>\n",
              "      <td>Month-to-month</td>\n",
              "      <td>Yes</td>\n",
              "      <td>Mailed check</td>\n",
              "      <td>74.40</td>\n",
              "      <td>306.6</td>\n",
              "      <td>Yes</td>\n",
              "    </tr>\n",
              "    <tr>\n",
              "      <th>7042</th>\n",
              "      <td>3186-AJIEK</td>\n",
              "      <td>Male</td>\n",
              "      <td>0</td>\n",
              "      <td>No</td>\n",
              "      <td>No</td>\n",
              "      <td>66</td>\n",
              "      <td>Yes</td>\n",
              "      <td>No</td>\n",
              "      <td>Fiber optic</td>\n",
              "      <td>Yes</td>\n",
              "      <td>No</td>\n",
              "      <td>Yes</td>\n",
              "      <td>Yes</td>\n",
              "      <td>Yes</td>\n",
              "      <td>Yes</td>\n",
              "      <td>Two year</td>\n",
              "      <td>Yes</td>\n",
              "      <td>Bank transfer (automatic)</td>\n",
              "      <td>105.65</td>\n",
              "      <td>6844.5</td>\n",
              "      <td>No</td>\n",
              "    </tr>\n",
              "  </tbody>\n",
              "</table>\n",
              "<p>7043 rows × 21 columns</p>\n",
              "</div>\n",
              "      <button class=\"colab-df-convert\" onclick=\"convertToInteractive('df-c3024550-a72f-4054-baf2-99b38031123f')\"\n",
              "              title=\"Convert this dataframe to an interactive table.\"\n",
              "              style=\"display:none;\">\n",
              "        \n",
              "  <svg xmlns=\"http://www.w3.org/2000/svg\" height=\"24px\"viewBox=\"0 0 24 24\"\n",
              "       width=\"24px\">\n",
              "    <path d=\"M0 0h24v24H0V0z\" fill=\"none\"/>\n",
              "    <path d=\"M18.56 5.44l.94 2.06.94-2.06 2.06-.94-2.06-.94-.94-2.06-.94 2.06-2.06.94zm-11 1L8.5 8.5l.94-2.06 2.06-.94-2.06-.94L8.5 2.5l-.94 2.06-2.06.94zm10 10l.94 2.06.94-2.06 2.06-.94-2.06-.94-.94-2.06-.94 2.06-2.06.94z\"/><path d=\"M17.41 7.96l-1.37-1.37c-.4-.4-.92-.59-1.43-.59-.52 0-1.04.2-1.43.59L10.3 9.45l-7.72 7.72c-.78.78-.78 2.05 0 2.83L4 21.41c.39.39.9.59 1.41.59.51 0 1.02-.2 1.41-.59l7.78-7.78 2.81-2.81c.8-.78.8-2.07 0-2.86zM5.41 20L4 18.59l7.72-7.72 1.47 1.35L5.41 20z\"/>\n",
              "  </svg>\n",
              "      </button>\n",
              "      \n",
              "  <style>\n",
              "    .colab-df-container {\n",
              "      display:flex;\n",
              "      flex-wrap:wrap;\n",
              "      gap: 12px;\n",
              "    }\n",
              "\n",
              "    .colab-df-convert {\n",
              "      background-color: #E8F0FE;\n",
              "      border: none;\n",
              "      border-radius: 50%;\n",
              "      cursor: pointer;\n",
              "      display: none;\n",
              "      fill: #1967D2;\n",
              "      height: 32px;\n",
              "      padding: 0 0 0 0;\n",
              "      width: 32px;\n",
              "    }\n",
              "\n",
              "    .colab-df-convert:hover {\n",
              "      background-color: #E2EBFA;\n",
              "      box-shadow: 0px 1px 2px rgba(60, 64, 67, 0.3), 0px 1px 3px 1px rgba(60, 64, 67, 0.15);\n",
              "      fill: #174EA6;\n",
              "    }\n",
              "\n",
              "    [theme=dark] .colab-df-convert {\n",
              "      background-color: #3B4455;\n",
              "      fill: #D2E3FC;\n",
              "    }\n",
              "\n",
              "    [theme=dark] .colab-df-convert:hover {\n",
              "      background-color: #434B5C;\n",
              "      box-shadow: 0px 1px 3px 1px rgba(0, 0, 0, 0.15);\n",
              "      filter: drop-shadow(0px 1px 2px rgba(0, 0, 0, 0.3));\n",
              "      fill: #FFFFFF;\n",
              "    }\n",
              "  </style>\n",
              "\n",
              "      <script>\n",
              "        const buttonEl =\n",
              "          document.querySelector('#df-c3024550-a72f-4054-baf2-99b38031123f button.colab-df-convert');\n",
              "        buttonEl.style.display =\n",
              "          google.colab.kernel.accessAllowed ? 'block' : 'none';\n",
              "\n",
              "        async function convertToInteractive(key) {\n",
              "          const element = document.querySelector('#df-c3024550-a72f-4054-baf2-99b38031123f');\n",
              "          const dataTable =\n",
              "            await google.colab.kernel.invokeFunction('convertToInteractive',\n",
              "                                                     [key], {});\n",
              "          if (!dataTable) return;\n",
              "\n",
              "          const docLinkHtml = 'Like what you see? Visit the ' +\n",
              "            '<a target=\"_blank\" href=https://colab.research.google.com/notebooks/data_table.ipynb>data table notebook</a>'\n",
              "            + ' to learn more about interactive tables.';\n",
              "          element.innerHTML = '';\n",
              "          dataTable['output_type'] = 'display_data';\n",
              "          await google.colab.output.renderOutput(dataTable, element);\n",
              "          const docLink = document.createElement('div');\n",
              "          docLink.innerHTML = docLinkHtml;\n",
              "          element.appendChild(docLink);\n",
              "        }\n",
              "      </script>\n",
              "    </div>\n",
              "  </div>\n",
              "  "
            ],
            "text/plain": [
              "      customerID  gender  SeniorCitizen  ... MonthlyCharges TotalCharges  Churn\n",
              "0     7590-VHVEG  Female              0  ...          29.85        29.85     No\n",
              "1     5575-GNVDE    Male              0  ...          56.95       1889.5     No\n",
              "2     3668-QPYBK    Male              0  ...          53.85       108.15    Yes\n",
              "3     7795-CFOCW    Male              0  ...          42.30      1840.75     No\n",
              "4     9237-HQITU  Female              0  ...          70.70       151.65    Yes\n",
              "...          ...     ...            ...  ...            ...          ...    ...\n",
              "7038  6840-RESVB    Male              0  ...          84.80       1990.5     No\n",
              "7039  2234-XADUH  Female              0  ...         103.20       7362.9     No\n",
              "7040  4801-JZAZL  Female              0  ...          29.60       346.45     No\n",
              "7041  8361-LTMKD    Male              1  ...          74.40        306.6    Yes\n",
              "7042  3186-AJIEK    Male              0  ...         105.65       6844.5     No\n",
              "\n",
              "[7043 rows x 21 columns]"
            ]
          },
          "metadata": {},
          "execution_count": 3
        }
      ]
    },
    {
      "cell_type": "code",
      "source": [
        "df.info()"
      ],
      "metadata": {
        "colab": {
          "base_uri": "https://localhost:8080/"
        },
        "id": "kEEc1wfZzKZj",
        "outputId": "532f8d2e-83b1-4868-8ae1-2c0f54a71cb2"
      },
      "execution_count": null,
      "outputs": [
        {
          "output_type": "stream",
          "name": "stdout",
          "text": [
            "<class 'pandas.core.frame.DataFrame'>\n",
            "RangeIndex: 7043 entries, 0 to 7042\n",
            "Data columns (total 21 columns):\n",
            " #   Column            Non-Null Count  Dtype  \n",
            "---  ------            --------------  -----  \n",
            " 0   customerID        7043 non-null   object \n",
            " 1   gender            7043 non-null   object \n",
            " 2   SeniorCitizen     7043 non-null   int64  \n",
            " 3   Partner           7043 non-null   object \n",
            " 4   Dependents        7043 non-null   object \n",
            " 5   tenure            7043 non-null   int64  \n",
            " 6   PhoneService      7043 non-null   object \n",
            " 7   MultipleLines     7043 non-null   object \n",
            " 8   InternetService   7043 non-null   object \n",
            " 9   OnlineSecurity    7043 non-null   object \n",
            " 10  OnlineBackup      7043 non-null   object \n",
            " 11  DeviceProtection  7043 non-null   object \n",
            " 12  TechSupport       7043 non-null   object \n",
            " 13  StreamingTV       7043 non-null   object \n",
            " 14  StreamingMovies   7043 non-null   object \n",
            " 15  Contract          7043 non-null   object \n",
            " 16  PaperlessBilling  7043 non-null   object \n",
            " 17  PaymentMethod     7043 non-null   object \n",
            " 18  MonthlyCharges    7043 non-null   float64\n",
            " 19  TotalCharges      7043 non-null   object \n",
            " 20  Churn             7043 non-null   object \n",
            "dtypes: float64(1), int64(2), object(18)\n",
            "memory usage: 1.1+ MB\n"
          ]
        }
      ]
    },
    {
      "cell_type": "code",
      "source": [
        "df.describe()"
      ],
      "metadata": {
        "colab": {
          "base_uri": "https://localhost:8080/",
          "height": 300
        },
        "id": "LyinZncKxSaL",
        "outputId": "b215346f-3b78-461e-90d6-c114c9537840"
      },
      "execution_count": null,
      "outputs": [
        {
          "output_type": "execute_result",
          "data": {
            "text/html": [
              "\n",
              "  <div id=\"df-422e8063-39a7-45ac-88cc-7e7d39a1ae9f\">\n",
              "    <div class=\"colab-df-container\">\n",
              "      <div>\n",
              "<style scoped>\n",
              "    .dataframe tbody tr th:only-of-type {\n",
              "        vertical-align: middle;\n",
              "    }\n",
              "\n",
              "    .dataframe tbody tr th {\n",
              "        vertical-align: top;\n",
              "    }\n",
              "\n",
              "    .dataframe thead th {\n",
              "        text-align: right;\n",
              "    }\n",
              "</style>\n",
              "<table border=\"1\" class=\"dataframe\">\n",
              "  <thead>\n",
              "    <tr style=\"text-align: right;\">\n",
              "      <th></th>\n",
              "      <th>SeniorCitizen</th>\n",
              "      <th>tenure</th>\n",
              "      <th>MonthlyCharges</th>\n",
              "    </tr>\n",
              "  </thead>\n",
              "  <tbody>\n",
              "    <tr>\n",
              "      <th>count</th>\n",
              "      <td>7043.000000</td>\n",
              "      <td>7043.000000</td>\n",
              "      <td>7043.000000</td>\n",
              "    </tr>\n",
              "    <tr>\n",
              "      <th>mean</th>\n",
              "      <td>0.162147</td>\n",
              "      <td>32.371149</td>\n",
              "      <td>64.761692</td>\n",
              "    </tr>\n",
              "    <tr>\n",
              "      <th>std</th>\n",
              "      <td>0.368612</td>\n",
              "      <td>24.559481</td>\n",
              "      <td>30.090047</td>\n",
              "    </tr>\n",
              "    <tr>\n",
              "      <th>min</th>\n",
              "      <td>0.000000</td>\n",
              "      <td>0.000000</td>\n",
              "      <td>18.250000</td>\n",
              "    </tr>\n",
              "    <tr>\n",
              "      <th>25%</th>\n",
              "      <td>0.000000</td>\n",
              "      <td>9.000000</td>\n",
              "      <td>35.500000</td>\n",
              "    </tr>\n",
              "    <tr>\n",
              "      <th>50%</th>\n",
              "      <td>0.000000</td>\n",
              "      <td>29.000000</td>\n",
              "      <td>70.350000</td>\n",
              "    </tr>\n",
              "    <tr>\n",
              "      <th>75%</th>\n",
              "      <td>0.000000</td>\n",
              "      <td>55.000000</td>\n",
              "      <td>89.850000</td>\n",
              "    </tr>\n",
              "    <tr>\n",
              "      <th>max</th>\n",
              "      <td>1.000000</td>\n",
              "      <td>72.000000</td>\n",
              "      <td>118.750000</td>\n",
              "    </tr>\n",
              "  </tbody>\n",
              "</table>\n",
              "</div>\n",
              "      <button class=\"colab-df-convert\" onclick=\"convertToInteractive('df-422e8063-39a7-45ac-88cc-7e7d39a1ae9f')\"\n",
              "              title=\"Convert this dataframe to an interactive table.\"\n",
              "              style=\"display:none;\">\n",
              "        \n",
              "  <svg xmlns=\"http://www.w3.org/2000/svg\" height=\"24px\"viewBox=\"0 0 24 24\"\n",
              "       width=\"24px\">\n",
              "    <path d=\"M0 0h24v24H0V0z\" fill=\"none\"/>\n",
              "    <path d=\"M18.56 5.44l.94 2.06.94-2.06 2.06-.94-2.06-.94-.94-2.06-.94 2.06-2.06.94zm-11 1L8.5 8.5l.94-2.06 2.06-.94-2.06-.94L8.5 2.5l-.94 2.06-2.06.94zm10 10l.94 2.06.94-2.06 2.06-.94-2.06-.94-.94-2.06-.94 2.06-2.06.94z\"/><path d=\"M17.41 7.96l-1.37-1.37c-.4-.4-.92-.59-1.43-.59-.52 0-1.04.2-1.43.59L10.3 9.45l-7.72 7.72c-.78.78-.78 2.05 0 2.83L4 21.41c.39.39.9.59 1.41.59.51 0 1.02-.2 1.41-.59l7.78-7.78 2.81-2.81c.8-.78.8-2.07 0-2.86zM5.41 20L4 18.59l7.72-7.72 1.47 1.35L5.41 20z\"/>\n",
              "  </svg>\n",
              "      </button>\n",
              "      \n",
              "  <style>\n",
              "    .colab-df-container {\n",
              "      display:flex;\n",
              "      flex-wrap:wrap;\n",
              "      gap: 12px;\n",
              "    }\n",
              "\n",
              "    .colab-df-convert {\n",
              "      background-color: #E8F0FE;\n",
              "      border: none;\n",
              "      border-radius: 50%;\n",
              "      cursor: pointer;\n",
              "      display: none;\n",
              "      fill: #1967D2;\n",
              "      height: 32px;\n",
              "      padding: 0 0 0 0;\n",
              "      width: 32px;\n",
              "    }\n",
              "\n",
              "    .colab-df-convert:hover {\n",
              "      background-color: #E2EBFA;\n",
              "      box-shadow: 0px 1px 2px rgba(60, 64, 67, 0.3), 0px 1px 3px 1px rgba(60, 64, 67, 0.15);\n",
              "      fill: #174EA6;\n",
              "    }\n",
              "\n",
              "    [theme=dark] .colab-df-convert {\n",
              "      background-color: #3B4455;\n",
              "      fill: #D2E3FC;\n",
              "    }\n",
              "\n",
              "    [theme=dark] .colab-df-convert:hover {\n",
              "      background-color: #434B5C;\n",
              "      box-shadow: 0px 1px 3px 1px rgba(0, 0, 0, 0.15);\n",
              "      filter: drop-shadow(0px 1px 2px rgba(0, 0, 0, 0.3));\n",
              "      fill: #FFFFFF;\n",
              "    }\n",
              "  </style>\n",
              "\n",
              "      <script>\n",
              "        const buttonEl =\n",
              "          document.querySelector('#df-422e8063-39a7-45ac-88cc-7e7d39a1ae9f button.colab-df-convert');\n",
              "        buttonEl.style.display =\n",
              "          google.colab.kernel.accessAllowed ? 'block' : 'none';\n",
              "\n",
              "        async function convertToInteractive(key) {\n",
              "          const element = document.querySelector('#df-422e8063-39a7-45ac-88cc-7e7d39a1ae9f');\n",
              "          const dataTable =\n",
              "            await google.colab.kernel.invokeFunction('convertToInteractive',\n",
              "                                                     [key], {});\n",
              "          if (!dataTable) return;\n",
              "\n",
              "          const docLinkHtml = 'Like what you see? Visit the ' +\n",
              "            '<a target=\"_blank\" href=https://colab.research.google.com/notebooks/data_table.ipynb>data table notebook</a>'\n",
              "            + ' to learn more about interactive tables.';\n",
              "          element.innerHTML = '';\n",
              "          dataTable['output_type'] = 'display_data';\n",
              "          await google.colab.output.renderOutput(dataTable, element);\n",
              "          const docLink = document.createElement('div');\n",
              "          docLink.innerHTML = docLinkHtml;\n",
              "          element.appendChild(docLink);\n",
              "        }\n",
              "      </script>\n",
              "    </div>\n",
              "  </div>\n",
              "  "
            ],
            "text/plain": [
              "       SeniorCitizen       tenure  MonthlyCharges\n",
              "count    7043.000000  7043.000000     7043.000000\n",
              "mean        0.162147    32.371149       64.761692\n",
              "std         0.368612    24.559481       30.090047\n",
              "min         0.000000     0.000000       18.250000\n",
              "25%         0.000000     9.000000       35.500000\n",
              "50%         0.000000    29.000000       70.350000\n",
              "75%         0.000000    55.000000       89.850000\n",
              "max         1.000000    72.000000      118.750000"
            ]
          },
          "metadata": {},
          "execution_count": 5
        }
      ]
    },
    {
      "cell_type": "markdown",
      "source": [
        "#Data Cleaning"
      ],
      "metadata": {
        "id": "5EoYsJzXi5h-"
      }
    },
    {
      "cell_type": "markdown",
      "source": [
        "##Change Data Type"
      ],
      "metadata": {
        "id": "pmXiIBx300hQ"
      }
    },
    {
      "cell_type": "code",
      "source": [
        "df['TotalCharges'] = pd.to_numeric(df['TotalCharges'],errors='coerce')"
      ],
      "metadata": {
        "id": "bi8-is0-02rS"
      },
      "execution_count": null,
      "outputs": []
    },
    {
      "cell_type": "markdown",
      "source": [
        "##Check missing value"
      ],
      "metadata": {
        "id": "qNLuwtRgx6Hm"
      }
    },
    {
      "cell_type": "code",
      "source": [
        "df.isnull().sum()"
      ],
      "metadata": {
        "colab": {
          "base_uri": "https://localhost:8080/"
        },
        "id": "IqMJolS_1yfC",
        "outputId": "0c75cc31-52df-4779-a11d-1cfea01cb462"
      },
      "execution_count": null,
      "outputs": [
        {
          "output_type": "execute_result",
          "data": {
            "text/plain": [
              "customerID           0\n",
              "gender               0\n",
              "SeniorCitizen        0\n",
              "Partner              0\n",
              "Dependents           0\n",
              "tenure               0\n",
              "PhoneService         0\n",
              "MultipleLines        0\n",
              "InternetService      0\n",
              "OnlineSecurity       0\n",
              "OnlineBackup         0\n",
              "DeviceProtection     0\n",
              "TechSupport          0\n",
              "StreamingTV          0\n",
              "StreamingMovies      0\n",
              "Contract             0\n",
              "PaperlessBilling     0\n",
              "PaymentMethod        0\n",
              "MonthlyCharges       0\n",
              "TotalCharges        11\n",
              "Churn                0\n",
              "dtype: int64"
            ]
          },
          "metadata": {},
          "execution_count": 7
        }
      ]
    },
    {
      "cell_type": "markdown",
      "source": [
        "##Handle duplicate data"
      ],
      "metadata": {
        "id": "BntYvrRmyA3t"
      }
    },
    {
      "cell_type": "code",
      "source": [
        "df.duplicated().sum()"
      ],
      "metadata": {
        "colab": {
          "base_uri": "https://localhost:8080/"
        },
        "id": "nNE0OVuZxdj-",
        "outputId": "85f5253e-e1a8-49f0-8d5d-d3b3e09749ff"
      },
      "execution_count": null,
      "outputs": [
        {
          "output_type": "execute_result",
          "data": {
            "text/plain": [
              "0"
            ]
          },
          "metadata": {},
          "execution_count": 8
        }
      ]
    },
    {
      "cell_type": "code",
      "source": [
        "df.drop_duplicates(inplace=True)"
      ],
      "metadata": {
        "id": "WO-w59xNyEzC"
      },
      "execution_count": null,
      "outputs": []
    },
    {
      "cell_type": "markdown",
      "source": [
        "#EDA"
      ],
      "metadata": {
        "id": "19Et1kdZxVLr"
      }
    },
    {
      "cell_type": "markdown",
      "source": [
        "**What is the precentage of each values in the target variable?**"
      ],
      "metadata": {
        "id": "rOHLmaYnUrav"
      }
    },
    {
      "cell_type": "code",
      "source": [
        "fig, axs = plt.subplots(ncols=2, figsize=(10,4))\n",
        "figs = df['Churn'].value_counts().plot(kind='bar', ax=axs[0])\n",
        "for p in figs.patches:\n",
        "  figs.annotate(format(p.get_height(), '.0f'), (p.get_x() + p.get_width()/2., p.get_height()),ha = 'center', va = 'center', xytext = (0, 10), textcoords = 'offset points')\n",
        "\n",
        "df['Churn'].value_counts().plot.pie(autopct='%1.1f%%', startangle = 90, ax=axs[1])"
      ],
      "metadata": {
        "colab": {
          "base_uri": "https://localhost:8080/",
          "height": 293
        },
        "id": "kzO5r8Z9xVzp",
        "outputId": "37976567-213e-4244-8a19-f1c5ae5f9133"
      },
      "execution_count": null,
      "outputs": [
        {
          "output_type": "execute_result",
          "data": {
            "text/plain": [
              "<matplotlib.axes._subplots.AxesSubplot at 0x7fc8a1166890>"
            ]
          },
          "metadata": {},
          "execution_count": 10
        },
        {
          "output_type": "display_data",
          "data": {
            "image/png": "[encoded data removed]",
            "text/plain": [
              "<Figure size 720x288 with 2 Axes>"
            ]
          },
          "metadata": {
            "needs_background": "light"
          }
        }
      ]
    },
    {
      "cell_type": "markdown",
      "source": [
        "There were about 26.5% of customers who changed to another provider\n",
        "\n",
        "The target variable seems quite imbalance, we will consider it while processing the data"
      ],
      "metadata": {
        "id": "FrIficb6U-_x"
      }
    },
    {
      "cell_type": "markdown",
      "source": [
        "**Categorical variables comparison based on churn**"
      ],
      "metadata": {
        "id": "4oP2lyUNgV_l"
      }
    },
    {
      "cell_type": "code",
      "source": [
        "cat_features = [feature for feature in df.columns if df[feature].dtypes == 'O']\n",
        "\n",
        "for col in cat_features[:-1]:\n",
        "    plt.figure(figsize=(6,3), dpi=100)\n",
        "    fig = sns.countplot(data=df,x=col,hue ='Churn',palette='gist_rainbow_r')\n",
        "    for p in fig.patches:\n",
        "      fig.annotate(format(p.get_height(), '.0f'), (p.get_x() + p.get_width()/2., p.get_height()),ha = 'center', va = 'center', xytext = (0, 10), textcoords = 'offset points')\n",
        "\n",
        "    plt.legend(loc=(1.05,0.5))"
      ],
      "metadata": {
        "colab": {
          "base_uri": "https://localhost:8080/",
          "height": 1000
        },
        "id": "kcJKhhQyZxsw",
        "outputId": "bc5f4e39-f3ce-4c24-cebf-17d50258e692"
      },
      "execution_count": null,
      "outputs": [
        {
          "output_type": "display_data",
          "data": {
            "image/png": "[encoded data removed]",
            "text/plain": [
              "<Figure size 600x300 with 1 Axes>"
            ]
          },
          "metadata": {
            "needs_background": "light"
          }
        },
        {
          "output_type": "display_data",
          "data": {
            "image/png": "[encoded data removed]",
            "text/plain": [
              "<Figure size 600x300 with 1 Axes>"
            ]
          },
          "metadata": {
            "needs_background": "light"
          }
        },
        {
          "output_type": "display_data",
          "data": {
            "image/png": "[encoded data removed]",
            "text/plain": [
              "<Figure size 600x300 with 1 Axes>"
            ]
          },
          "metadata": {
            "needs_background": "light"
          }
        },
        {
          "output_type": "display_data",
          "data": {
            "image/png": "[encoded data removed]",
            "text/plain": [
              "<Figure size 600x300 with 1 Axes>"
            ]
          },
          "metadata": {
            "needs_background": "light"
          }
        },
        {
          "output_type": "display_data",
          "data": {
            "image/png": "[encoded data removed]",
            "text/plain": [
              "<Figure size 600x300 with 1 Axes>"
            ]
          },
          "metadata": {
            "needs_background": "light"
          }
        },
        {
          "output_type": "display_data",
          "data": {
            "image/png": "[encoded data removed]",
            "text/plain": [
              "<Figure size 600x300 with 1 Axes>"
            ]
          },
          "metadata": {
            "needs_background": "light"
          }
        },
        {
          "output_type": "display_data",
          "data": {
            "image/png": "[encoded data removed]",
            "text/plain": [
              "<Figure size 600x300 with 1 Axes>"
            ]
          },
          "metadata": {
            "needs_background": "light"
          }
        },
        {
          "output_type": "display_data",
          "data": {
            "image/png": "[encoded data removed]",
            "text/plain": [
              "<Figure size 600x300 with 1 Axes>"
            ]
          },
          "metadata": {
            "needs_background": "light"
          }
        },
        {
          "output_type": "display_data",
          "data": {
            "image/png": "[encoded data removed]",
            "text/plain": [
              "<Figure size 600x300 with 1 Axes>"
            ]
          },
          "metadata": {
            "needs_background": "light"
          }
        },
        {
          "output_type": "display_data",
          "data": {
            "image/png": "[encoded data removed]",
            "text/plain": [
              "<Figure size 600x300 with 1 Axes>"
            ]
          },
          "metadata": {
            "needs_background": "light"
          }
        },
        {
          "output_type": "display_data",
          "data": {
            "image/png": "[encoded data removed]",
            "text/plain": [
              "<Figure size 600x300 with 1 Axes>"
            ]
          },
          "metadata": {
            "needs_background": "light"
          }
        },
        {
          "output_type": "display_data",
          "data": {
            "image/png": "[encoded data removed]",
            "text/plain": [
              "<Figure size 600x300 with 1 Axes>"
            ]
          },
          "metadata": {
            "needs_background": "light"
          }
        },
        {
          "output_type": "display_data",
          "data": {
            "image/png": "[encoded data removed]",
            "text/plain": [
              "<Figure size 600x300 with 1 Axes>"
            ]
          },
          "metadata": {
            "needs_background": "light"
          }
        },
        {
          "output_type": "display_data",
          "data": {
            "image/png": "[encoded data removed]",
            "text/plain": [
              "<Figure size 600x300 with 1 Axes>"
            ]
          },
          "metadata": {
            "needs_background": "light"
          }
        },
        {
          "output_type": "display_data",
          "data": {
            "image/png": "[encoded data removed]",
            "text/plain": [
              "<Figure size 600x300 with 1 Axes>"
            ]
          },
          "metadata": {
            "needs_background": "light"
          }
        },
        {
          "output_type": "display_data",
          "data": {
            "image/png": "[encoded data removed]",
            "text/plain": [
              "<Figure size 600x300 with 1 Axes>"
            ]
          },
          "metadata": {
            "needs_background": "light"
          }
        }
      ]
    },
    {
      "cell_type": "markdown",
      "source": [
        "From the categorical variables based on churn, we get that\n",
        "\n",
        "* We will definitely drop customer ID\n",
        "\n",
        "* There is no significant difference who changed the service provider based on the gender. We'll likely to drop it\n",
        "\n",
        "* Customer that does't have a partner more likely churn\n",
        "\n",
        "* Customer that doesn't have dependents are likely churn\n",
        "\n",
        "* Customer that have phone service likely churn\n",
        "\n",
        "* Customer that do and doesn't have multiple lines likely churn, it seems like it doesn't affect on the target variable\n",
        "\n",
        "* Customer with fiber optic internet service likely churn, this could affect on the target variable\n",
        "\n",
        "* Customer that doesn't have device protection likely to churn, this could also affect on the target variable\n",
        "\n",
        "* Online backup, online security, tech support, streaming TV, streaming movies, paperless billing, and payment method could not affect the target variable, but we should take a look for a further research on it\n",
        "\n",
        "* Contract with month to month contract is highly churn, we will consider it as one of the future"
      ],
      "metadata": {
        "id": "gfo3L1Cbgv_M"
      }
    },
    {
      "cell_type": "markdown",
      "source": [
        "**Correlation between numeric variables**"
      ],
      "metadata": {
        "id": "86VyVmPmiYjn"
      }
    },
    {
      "cell_type": "code",
      "source": [
        "plt.subplots(figsize=(12,8))\n",
        "mask = np.triu(np.ones_like(df.corr()))\n",
        "sns.heatmap(df.corr(), annot = True, cmap='viridis', mask=mask)"
      ],
      "metadata": {
        "colab": {
          "base_uri": "https://localhost:8080/",
          "height": 500
        },
        "id": "MEA_F82EkEDu",
        "outputId": "638bd615-16db-40ac-a727-0770cf461b9d"
      },
      "execution_count": null,
      "outputs": [
        {
          "output_type": "execute_result",
          "data": {
            "text/plain": [
              "<matplotlib.axes._subplots.AxesSubplot at 0x7fc89ee10090>"
            ]
          },
          "metadata": {},
          "execution_count": 12
        },
        {
          "output_type": "display_data",
          "data": {
            "image/png": "[encoded data removed]",
            "text/plain": [
              "<Figure size 864x576 with 2 Axes>"
            ]
          },
          "metadata": {
            "needs_background": "light"
          }
        }
      ]
    },
    {
      "cell_type": "markdown",
      "source": [
        "There is no high correlation between the numeric features"
      ],
      "metadata": {
        "id": "BEmzk6IEOMSE"
      }
    },
    {
      "cell_type": "markdown",
      "source": [
        "#Data Preprocessing"
      ],
      "metadata": {
        "id": "jGXJ-rjrweXk"
      }
    },
    {
      "cell_type": "markdown",
      "source": [
        "##Drop Unused Columns"
      ],
      "metadata": {
        "id": "wt0Jd5Fqw1In"
      }
    },
    {
      "cell_type": "code",
      "source": [
        "df.drop('customerID', axis = 1,inplace = True)"
      ],
      "metadata": {
        "id": "lDqjTt5xw3Wl"
      },
      "execution_count": null,
      "outputs": []
    },
    {
      "cell_type": "markdown",
      "source": [
        "##Cardinality"
      ],
      "metadata": {
        "id": "bexxy2Zxy1Qj"
      }
    },
    {
      "cell_type": "code",
      "source": [
        "obj_col = df.select_dtypes(include=['object'])\n",
        "for cat in obj_col:\n",
        "  count = len(df[cat].unique())\n",
        "  print(f\"Cardinality of column {cat} is {count}\")"
      ],
      "metadata": {
        "colab": {
          "base_uri": "https://localhost:8080/"
        },
        "id": "OkFgs77gy2uR",
        "outputId": "d22f41cf-2bb8-4d79-d5eb-980a6ebcb5ce"
      },
      "execution_count": null,
      "outputs": [
        {
          "output_type": "stream",
          "name": "stdout",
          "text": [
            "Cardinality of column gender is 2\n",
            "Cardinality of column Partner is 2\n",
            "Cardinality of column Dependents is 2\n",
            "Cardinality of column PhoneService is 2\n",
            "Cardinality of column MultipleLines is 3\n",
            "Cardinality of column InternetService is 3\n",
            "Cardinality of column OnlineSecurity is 3\n",
            "Cardinality of column OnlineBackup is 3\n",
            "Cardinality of column DeviceProtection is 3\n",
            "Cardinality of column TechSupport is 3\n",
            "Cardinality of column StreamingTV is 3\n",
            "Cardinality of column StreamingMovies is 3\n",
            "Cardinality of column Contract is 3\n",
            "Cardinality of column PaperlessBilling is 2\n",
            "Cardinality of column PaymentMethod is 4\n",
            "Cardinality of column Churn is 2\n"
          ]
        }
      ]
    },
    {
      "cell_type": "markdown",
      "source": [
        "##Split Data"
      ],
      "metadata": {
        "id": "6Mnda497whOL"
      }
    },
    {
      "cell_type": "code",
      "source": [
        "X = df.drop('Churn', axis = 1)\n",
        "y = df.Churn"
      ],
      "metadata": {
        "id": "Nt6yPa_T2psN"
      },
      "execution_count": null,
      "outputs": []
    },
    {
      "cell_type": "code",
      "source": [
        "X_train, X_test, y_train, y_test = train_test_split(X, y, test_size = 0.25, random_state=42, stratify=y)"
      ],
      "metadata": {
        "id": "47p_W3uiwgmJ"
      },
      "execution_count": null,
      "outputs": []
    },
    {
      "cell_type": "code",
      "source": [
        "X_train, X_val, y_train, y_val = train_test_split(X_train, y_train, test_size=0.05, stratify=y_train)"
      ],
      "metadata": {
        "id": "ENUBsEhS3ANT"
      },
      "execution_count": null,
      "outputs": []
    },
    {
      "cell_type": "code",
      "source": [
        "X_train.shape, X_test.shape, X_val.shape"
      ],
      "metadata": {
        "colab": {
          "base_uri": "https://localhost:8080/"
        },
        "id": "HOo-ki3r4SW4",
        "outputId": "e6567d75-14e3-40dd-e5c9-08e52f37ca14"
      },
      "execution_count": null,
      "outputs": [
        {
          "output_type": "execute_result",
          "data": {
            "text/plain": [
              "((5017, 19), (1761, 19), (265, 19))"
            ]
          },
          "metadata": {},
          "execution_count": 18
        }
      ]
    },
    {
      "cell_type": "code",
      "source": [
        "y_train"
      ],
      "metadata": {
        "colab": {
          "base_uri": "https://localhost:8080/"
        },
        "id": "1RUJlGWH4bV-",
        "outputId": "dcf425a4-4d1e-4149-c997-669e6708edc1"
      },
      "execution_count": null,
      "outputs": [
        {
          "output_type": "execute_result",
          "data": {
            "text/plain": [
              "5534     No\n",
              "608      No\n",
              "5930     No\n",
              "5743     No\n",
              "3654     No\n",
              "       ... \n",
              "6643     No\n",
              "1306    Yes\n",
              "158      No\n",
              "2176     No\n",
              "4550     No\n",
              "Name: Churn, Length: 5017, dtype: object"
            ]
          },
          "metadata": {},
          "execution_count": 19
        }
      ]
    },
    {
      "cell_type": "markdown",
      "source": [
        "##Handling Missing Values\n"
      ],
      "metadata": {
        "id": "vcekH97Q4kkR"
      }
    },
    {
      "cell_type": "markdown",
      "source": [
        "Check missing values"
      ],
      "metadata": {
        "id": "xuITzaYG79ct"
      }
    },
    {
      "cell_type": "code",
      "source": [
        "X_train.isnull().sum()"
      ],
      "metadata": {
        "colab": {
          "base_uri": "https://localhost:8080/"
        },
        "id": "Xx4KYC2u4mDs",
        "outputId": "66205727-3676-427a-a171-82329a07af82"
      },
      "execution_count": null,
      "outputs": [
        {
          "output_type": "execute_result",
          "data": {
            "text/plain": [
              "gender              0\n",
              "SeniorCitizen       0\n",
              "Partner             0\n",
              "Dependents          0\n",
              "tenure              0\n",
              "PhoneService        0\n",
              "MultipleLines       0\n",
              "InternetService     0\n",
              "OnlineSecurity      0\n",
              "OnlineBackup        0\n",
              "DeviceProtection    0\n",
              "TechSupport         0\n",
              "StreamingTV         0\n",
              "StreamingMovies     0\n",
              "Contract            0\n",
              "PaperlessBilling    0\n",
              "PaymentMethod       0\n",
              "MonthlyCharges      0\n",
              "TotalCharges        8\n",
              "dtype: int64"
            ]
          },
          "metadata": {},
          "execution_count": 20
        }
      ]
    },
    {
      "cell_type": "code",
      "source": [
        "X_test.isnull().sum()"
      ],
      "metadata": {
        "colab": {
          "base_uri": "https://localhost:8080/"
        },
        "id": "n2D76k7j7qkA",
        "outputId": "7f67b59c-b128-44c3-989e-fa09efadcf30"
      },
      "execution_count": null,
      "outputs": [
        {
          "output_type": "execute_result",
          "data": {
            "text/plain": [
              "gender              0\n",
              "SeniorCitizen       0\n",
              "Partner             0\n",
              "Dependents          0\n",
              "tenure              0\n",
              "PhoneService        0\n",
              "MultipleLines       0\n",
              "InternetService     0\n",
              "OnlineSecurity      0\n",
              "OnlineBackup        0\n",
              "DeviceProtection    0\n",
              "TechSupport         0\n",
              "StreamingTV         0\n",
              "StreamingMovies     0\n",
              "Contract            0\n",
              "PaperlessBilling    0\n",
              "PaymentMethod       0\n",
              "MonthlyCharges      0\n",
              "TotalCharges        3\n",
              "dtype: int64"
            ]
          },
          "metadata": {},
          "execution_count": 21
        }
      ]
    },
    {
      "cell_type": "code",
      "source": [
        "X_val.isnull().sum()"
      ],
      "metadata": {
        "colab": {
          "base_uri": "https://localhost:8080/"
        },
        "id": "1AGp6SYy7sEo",
        "outputId": "96202fcb-bdd4-44e9-ef02-39ca968fdd00"
      },
      "execution_count": null,
      "outputs": [
        {
          "output_type": "execute_result",
          "data": {
            "text/plain": [
              "gender              0\n",
              "SeniorCitizen       0\n",
              "Partner             0\n",
              "Dependents          0\n",
              "tenure              0\n",
              "PhoneService        0\n",
              "MultipleLines       0\n",
              "InternetService     0\n",
              "OnlineSecurity      0\n",
              "OnlineBackup        0\n",
              "DeviceProtection    0\n",
              "TechSupport         0\n",
              "StreamingTV         0\n",
              "StreamingMovies     0\n",
              "Contract            0\n",
              "PaperlessBilling    0\n",
              "PaymentMethod       0\n",
              "MonthlyCharges      0\n",
              "TotalCharges        0\n",
              "dtype: int64"
            ]
          },
          "metadata": {},
          "execution_count": 22
        }
      ]
    },
    {
      "cell_type": "markdown",
      "source": [
        "Missing values occured in X_train and X_test, since it is only occured a little on the dataset we'll likely to drop it"
      ],
      "metadata": {
        "id": "fomuQf408Bv7"
      }
    },
    {
      "cell_type": "code",
      "source": [
        "train_to_drop = X_train[X_train['TotalCharges'].isnull()].index.tolist()"
      ],
      "metadata": {
        "id": "_cGwhNuq78Ur"
      },
      "execution_count": null,
      "outputs": []
    },
    {
      "cell_type": "code",
      "source": [
        "test_to_drop = X_test[X_test['TotalCharges'].isnull()].index.tolist()"
      ],
      "metadata": {
        "id": "aeHOJLF_8vOP"
      },
      "execution_count": null,
      "outputs": []
    },
    {
      "cell_type": "code",
      "source": [
        "y_train.drop(train_to_drop, inplace = True)"
      ],
      "metadata": {
        "id": "6MuuCzBa-zcj"
      },
      "execution_count": null,
      "outputs": []
    },
    {
      "cell_type": "code",
      "source": [
        "y_test.drop(test_to_drop, inplace = True)"
      ],
      "metadata": {
        "id": "UYvEUHtw__6-"
      },
      "execution_count": null,
      "outputs": []
    },
    {
      "cell_type": "code",
      "source": [
        "X_train.dropna(inplace=True)"
      ],
      "metadata": {
        "id": "wbGkitDRAFIW"
      },
      "execution_count": null,
      "outputs": []
    },
    {
      "cell_type": "code",
      "source": [
        "X_test.dropna(inplace=True)"
      ],
      "metadata": {
        "id": "dKGSKEMHALfo"
      },
      "execution_count": null,
      "outputs": []
    },
    {
      "cell_type": "code",
      "source": [
        "X_train.shape, X_test.shape, y_train.shape, y_test.shape"
      ],
      "metadata": {
        "colab": {
          "base_uri": "https://localhost:8080/"
        },
        "id": "Zs9VZqrhANQB",
        "outputId": "3cd8daa9-6f48-4c92-99d7-bbf5d198f16d"
      },
      "execution_count": null,
      "outputs": [
        {
          "output_type": "execute_result",
          "data": {
            "text/plain": [
              "((5009, 19), (1758, 19), (5009,), (1758,))"
            ]
          },
          "metadata": {},
          "execution_count": 29
        }
      ]
    },
    {
      "cell_type": "markdown",
      "source": [
        "##Handling Outliers"
      ],
      "metadata": {
        "id": "hlKTcliSAi8Z"
      }
    },
    {
      "cell_type": "markdown",
      "source": [
        "Check Outliers"
      ],
      "metadata": {
        "id": "tDrh3fTvCaIS"
      }
    },
    {
      "cell_type": "code",
      "source": [
        "num_train = X_train._get_numeric_data()\n",
        "for k, v in num_train.items():\n",
        "  q1 = v.quantile(0.25)\n",
        "  q3 = v.quantile(0.75)\n",
        "  iqr = q3 - q1\n",
        "  v_col = v[(v <= q1 - 1.5 * iqr) | (v >= q3 + 1.5 * iqr)]\n",
        "  perc = np.shape(v_col)[0] * 100.0 / np.shape(num_train)[0]\n",
        "  print(\"Column %s outliers = %.2f%%\" % (k, perc))"
      ],
      "metadata": {
        "colab": {
          "base_uri": "https://localhost:8080/"
        },
        "id": "22GBBbiDAk_P",
        "outputId": "e7464f85-54bc-43e5-f4a5-675ba0e8e98b"
      },
      "execution_count": null,
      "outputs": [
        {
          "output_type": "stream",
          "name": "stdout",
          "text": [
            "Column SeniorCitizen outliers = 100.00%\n",
            "Column tenure outliers = 0.00%\n",
            "Column MonthlyCharges outliers = 0.00%\n",
            "Column TotalCharges outliers = 0.00%\n"
          ]
        }
      ]
    },
    {
      "cell_type": "code",
      "source": [
        "num_test = X_test._get_numeric_data()\n",
        "for k, v in num_test.items():\n",
        "  q1 = v.quantile(0.25)\n",
        "  q3 = v.quantile(0.75)\n",
        "  iqr = q3 - q1\n",
        "  v_col = v[(v <= q1 - 1.5 * iqr) | (v >= q3 + 1.5 * iqr)]\n",
        "  perc = np.shape(v_col)[0] * 100.0 / np.shape(num_test)[0]\n",
        "  print(\"Column %s outliers = %.2f%%\" % (k, perc))"
      ],
      "metadata": {
        "colab": {
          "base_uri": "https://localhost:8080/"
        },
        "id": "eyVFdorNCQ36",
        "outputId": "6f1f7527-fe91-49e4-e374-6085d00dd8f5"
      },
      "execution_count": null,
      "outputs": [
        {
          "output_type": "stream",
          "name": "stdout",
          "text": [
            "Column SeniorCitizen outliers = 100.00%\n",
            "Column tenure outliers = 0.00%\n",
            "Column MonthlyCharges outliers = 0.00%\n",
            "Column TotalCharges outliers = 0.46%\n"
          ]
        }
      ]
    },
    {
      "cell_type": "code",
      "source": [
        "num_val = X_val._get_numeric_data()\n",
        "for k, v in num_val.items():\n",
        "  q1 = v.quantile(0.25)\n",
        "  q3 = v.quantile(0.75)\n",
        "  iqr = q3 - q1\n",
        "  v_col = v[(v <= q1 - 1.5 * iqr) | (v >= q3 + 1.5 * iqr)]\n",
        "  perc = np.shape(v_col)[0] * 100.0 / np.shape(num_val)[0]\n",
        "  print(\"Column %s outliers = %.2f%%\" % (k, perc))"
      ],
      "metadata": {
        "colab": {
          "base_uri": "https://localhost:8080/"
        },
        "id": "ZHuQ6fYDCUpg",
        "outputId": "2f4a25a5-03c4-42c5-e93c-216187dbe245"
      },
      "execution_count": null,
      "outputs": [
        {
          "output_type": "stream",
          "name": "stdout",
          "text": [
            "Column SeniorCitizen outliers = 100.00%\n",
            "Column tenure outliers = 0.00%\n",
            "Column MonthlyCharges outliers = 0.00%\n",
            "Column TotalCharges outliers = 0.00%\n"
          ]
        }
      ]
    },
    {
      "cell_type": "markdown",
      "source": [
        "Handle outliers in test set with capping"
      ],
      "metadata": {
        "id": "8QLMWXW6CvwJ"
      }
    },
    {
      "cell_type": "code",
      "source": [
        "windsoriser = Winsorizer(capping_method='iqr', # choose iqr for IQR rule boundaries or gaussian for mean and std\n",
        "                          tail='both', # cap left, right or both tails \n",
        "                          fold=1.5,\n",
        "                          variables=['TotalCharges'])\n",
        "\n",
        "windsoriser.fit(X_test)\n",
        "\n",
        "X_test = windsoriser.transform(X_test)"
      ],
      "metadata": {
        "id": "yofthfCsCx0a"
      },
      "execution_count": null,
      "outputs": []
    },
    {
      "cell_type": "code",
      "source": [
        "num_test = X_test._get_numeric_data()\n",
        "for i in num_test:\n",
        "  fig, axs = plt.subplots(1,2,figsize=(16, 4))\n",
        "  sns.histplot(num_test[i], bins = 30, kde=True, ax = axs[0])\n",
        "  sns.boxplot(num_test[i], ax = axs[1])\n",
        "\n",
        "  axs[0].axvline(num_test[i].mean(), color='red', linestyle='dashed', label = 'Mean')\n",
        "  axs[0].legend()"
      ],
      "metadata": {
        "colab": {
          "base_uri": "https://localhost:8080/",
          "height": 1000
        },
        "id": "KjehdBVhEDNX",
        "outputId": "f9f40722-4d7f-4dd6-f0c4-1ff5eb3d9fdb"
      },
      "execution_count": null,
      "outputs": [
        {
          "output_type": "display_data",
          "data": {
            "image/png": "[encoded data removed]",
            "text/plain": [
              "<Figure size 1152x288 with 2 Axes>"
            ]
          },
          "metadata": {
            "needs_background": "light"
          }
        },
        {
          "output_type": "display_data",
          "data": {
            "image/png": "[encoded data removed]",
            "text/plain": [
              "<Figure size 1152x288 with 2 Axes>"
            ]
          },
          "metadata": {
            "needs_background": "light"
          }
        },
        {
          "output_type": "display_data",
          "data": {
            "image/png": "[encoded data removed]",
            "text/plain": [
              "<Figure size 1152x288 with 2 Axes>"
            ]
          },
          "metadata": {
            "needs_background": "light"
          }
        },
        {
          "output_type": "display_data",
          "data": {
            "image/png": "[encoded data removed]",
            "text/plain": [
              "<Figure size 1152x288 with 2 Axes>"
            ]
          },
          "metadata": {
            "needs_background": "light"
          }
        }
      ]
    },
    {
      "cell_type": "markdown",
      "source": [
        "##Feature Selection"
      ],
      "metadata": {
        "id": "35iI9KbJTK41"
      }
    },
    {
      "cell_type": "code",
      "source": [
        "X_train_num = X_train._get_numeric_data()\n",
        "# feature extraction\n",
        "model = ExtraTreesClassifier(n_estimators=400)\n",
        "model.fit(X_train_num, y_train)\n",
        "\n",
        "# feature_importances_ dari highest ke lowest\n",
        "sorted_idx = np.argsort(model.feature_importances_)\n",
        "sorted_idx = sorted_idx[::-1]\n",
        "\n",
        "# plot feature importances\n",
        "plt.figure(figsize=(12,6))\n",
        "plt.title(\"Feature importances\")\n",
        "plt.bar(range(X_train_num.shape[1]), model.feature_importances_[sorted_idx],\n",
        "        color=\"r\", align=\"center\")\n",
        "plt.xticks(range(X_train_num.shape[1]), X_train_num.columns[sorted_idx], rotation=90)\n",
        "plt.xlim([-1, X_train_num.shape[1]])\n",
        "plt.show()"
      ],
      "metadata": {
        "colab": {
          "base_uri": "https://localhost:8080/",
          "height": 461
        },
        "id": "JxbU6_6HTNKm",
        "outputId": "6ae0df90-3404-4b30-ad3a-9532970cae24"
      },
      "execution_count": null,
      "outputs": [
        {
          "output_type": "display_data",
          "data": {
            "image/png": "[encoded data removed]",
            "text/plain": [
              "<Figure size 864x432 with 1 Axes>"
            ]
          },
          "metadata": {
            "needs_background": "light"
          }
        }
      ]
    },
    {
      "cell_type": "markdown",
      "source": [
        "From the feature importance and EDA, we get that \n",
        "\n",
        "Total charges, tenure, Monthly charges, and contract are impactful to the target. So we will use these variables as our features"
      ],
      "metadata": {
        "id": "O5punF7Vlu1F"
      }
    },
    {
      "cell_type": "code",
      "source": [
        "X_train = X_train.loc[:,['TotalCharges', 'tenure', 'MonthlyCharges','Contract','InternetService', 'DeviceProtection']]\n",
        "X_test = X_test.loc[:,['TotalCharges', 'tenure', 'MonthlyCharges','Contract','InternetService', 'DeviceProtection']]\n",
        "X_val = X_val.loc[:,['TotalCharges', 'tenure', 'MonthlyCharges','Contract','InternetService', 'DeviceProtection']]"
      ],
      "metadata": {
        "id": "gTihymUZnrku"
      },
      "execution_count": null,
      "outputs": []
    },
    {
      "cell_type": "code",
      "source": [
        "X_train"
      ],
      "metadata": {
        "colab": {
          "base_uri": "https://localhost:8080/",
          "height": 423
        },
        "id": "5Dxc4esAoyhs",
        "outputId": "df1e12ea-538e-4dc9-e883-bac29a6bf514"
      },
      "execution_count": null,
      "outputs": [
        {
          "output_type": "execute_result",
          "data": {
            "text/html": [
              "\n",
              "  <div id=\"df-08713316-b88f-4047-9f2c-e6c7fdf1215d\">\n",
              "    <div class=\"colab-df-container\">\n",
              "      <div>\n",
              "<style scoped>\n",
              "    .dataframe tbody tr th:only-of-type {\n",
              "        vertical-align: middle;\n",
              "    }\n",
              "\n",
              "    .dataframe tbody tr th {\n",
              "        vertical-align: top;\n",
              "    }\n",
              "\n",
              "    .dataframe thead th {\n",
              "        text-align: right;\n",
              "    }\n",
              "</style>\n",
              "<table border=\"1\" class=\"dataframe\">\n",
              "  <thead>\n",
              "    <tr style=\"text-align: right;\">\n",
              "      <th></th>\n",
              "      <th>TotalCharges</th>\n",
              "      <th>tenure</th>\n",
              "      <th>MonthlyCharges</th>\n",
              "      <th>Contract</th>\n",
              "      <th>InternetService</th>\n",
              "      <th>DeviceProtection</th>\n",
              "    </tr>\n",
              "  </thead>\n",
              "  <tbody>\n",
              "    <tr>\n",
              "      <th>5534</th>\n",
              "      <td>1747.20</td>\n",
              "      <td>21</td>\n",
              "      <td>80.35</td>\n",
              "      <td>Month-to-month</td>\n",
              "      <td>Fiber optic</td>\n",
              "      <td>No</td>\n",
              "    </tr>\n",
              "    <tr>\n",
              "      <th>608</th>\n",
              "      <td>8306.05</td>\n",
              "      <td>72</td>\n",
              "      <td>114.55</td>\n",
              "      <td>Two year</td>\n",
              "      <td>Fiber optic</td>\n",
              "      <td>Yes</td>\n",
              "    </tr>\n",
              "    <tr>\n",
              "      <th>5930</th>\n",
              "      <td>6185.15</td>\n",
              "      <td>72</td>\n",
              "      <td>84.70</td>\n",
              "      <td>Two year</td>\n",
              "      <td>Fiber optic</td>\n",
              "      <td>No</td>\n",
              "    </tr>\n",
              "    <tr>\n",
              "      <th>5743</th>\n",
              "      <td>735.90</td>\n",
              "      <td>38</td>\n",
              "      <td>20.20</td>\n",
              "      <td>Two year</td>\n",
              "      <td>No</td>\n",
              "      <td>No internet service</td>\n",
              "    </tr>\n",
              "    <tr>\n",
              "      <th>3654</th>\n",
              "      <td>2433.50</td>\n",
              "      <td>28</td>\n",
              "      <td>89.90</td>\n",
              "      <td>Month-to-month</td>\n",
              "      <td>Fiber optic</td>\n",
              "      <td>Yes</td>\n",
              "    </tr>\n",
              "    <tr>\n",
              "      <th>...</th>\n",
              "      <td>...</td>\n",
              "      <td>...</td>\n",
              "      <td>...</td>\n",
              "      <td>...</td>\n",
              "      <td>...</td>\n",
              "      <td>...</td>\n",
              "    </tr>\n",
              "    <tr>\n",
              "      <th>6643</th>\n",
              "      <td>239.05</td>\n",
              "      <td>3</td>\n",
              "      <td>74.60</td>\n",
              "      <td>Month-to-month</td>\n",
              "      <td>Fiber optic</td>\n",
              "      <td>No</td>\n",
              "    </tr>\n",
              "    <tr>\n",
              "      <th>1306</th>\n",
              "      <td>8127.60</td>\n",
              "      <td>70</td>\n",
              "      <td>115.55</td>\n",
              "      <td>One year</td>\n",
              "      <td>Fiber optic</td>\n",
              "      <td>Yes</td>\n",
              "    </tr>\n",
              "    <tr>\n",
              "      <th>158</th>\n",
              "      <td>1024.00</td>\n",
              "      <td>16</td>\n",
              "      <td>64.25</td>\n",
              "      <td>Two year</td>\n",
              "      <td>DSL</td>\n",
              "      <td>Yes</td>\n",
              "    </tr>\n",
              "    <tr>\n",
              "      <th>2176</th>\n",
              "      <td>1284.20</td>\n",
              "      <td>67</td>\n",
              "      <td>19.40</td>\n",
              "      <td>Two year</td>\n",
              "      <td>No</td>\n",
              "      <td>No internet service</td>\n",
              "    </tr>\n",
              "    <tr>\n",
              "      <th>4550</th>\n",
              "      <td>1988.05</td>\n",
              "      <td>72</td>\n",
              "      <td>26.25</td>\n",
              "      <td>Two year</td>\n",
              "      <td>No</td>\n",
              "      <td>No internet service</td>\n",
              "    </tr>\n",
              "  </tbody>\n",
              "</table>\n",
              "<p>5009 rows × 6 columns</p>\n",
              "</div>\n",
              "      <button class=\"colab-df-convert\" onclick=\"convertToInteractive('df-08713316-b88f-4047-9f2c-e6c7fdf1215d')\"\n",
              "              title=\"Convert this dataframe to an interactive table.\"\n",
              "              style=\"display:none;\">\n",
              "        \n",
              "  <svg xmlns=\"http://www.w3.org/2000/svg\" height=\"24px\"viewBox=\"0 0 24 24\"\n",
              "       width=\"24px\">\n",
              "    <path d=\"M0 0h24v24H0V0z\" fill=\"none\"/>\n",
              "    <path d=\"M18.56 5.44l.94 2.06.94-2.06 2.06-.94-2.06-.94-.94-2.06-.94 2.06-2.06.94zm-11 1L8.5 8.5l.94-2.06 2.06-.94-2.06-.94L8.5 2.5l-.94 2.06-2.06.94zm10 10l.94 2.06.94-2.06 2.06-.94-2.06-.94-.94-2.06-.94 2.06-2.06.94z\"/><path d=\"M17.41 7.96l-1.37-1.37c-.4-.4-.92-.59-1.43-.59-.52 0-1.04.2-1.43.59L10.3 9.45l-7.72 7.72c-.78.78-.78 2.05 0 2.83L4 21.41c.39.39.9.59 1.41.59.51 0 1.02-.2 1.41-.59l7.78-7.78 2.81-2.81c.8-.78.8-2.07 0-2.86zM5.41 20L4 18.59l7.72-7.72 1.47 1.35L5.41 20z\"/>\n",
              "  </svg>\n",
              "      </button>\n",
              "      \n",
              "  <style>\n",
              "    .colab-df-container {\n",
              "      display:flex;\n",
              "      flex-wrap:wrap;\n",
              "      gap: 12px;\n",
              "    }\n",
              "\n",
              "    .colab-df-convert {\n",
              "      background-color: #E8F0FE;\n",
              "      border: none;\n",
              "      border-radius: 50%;\n",
              "      cursor: pointer;\n",
              "      display: none;\n",
              "      fill: #1967D2;\n",
              "      height: 32px;\n",
              "      padding: 0 0 0 0;\n",
              "      width: 32px;\n",
              "    }\n",
              "\n",
              "    .colab-df-convert:hover {\n",
              "      background-color: #E2EBFA;\n",
              "      box-shadow: 0px 1px 2px rgba(60, 64, 67, 0.3), 0px 1px 3px 1px rgba(60, 64, 67, 0.15);\n",
              "      fill: #174EA6;\n",
              "    }\n",
              "\n",
              "    [theme=dark] .colab-df-convert {\n",
              "      background-color: #3B4455;\n",
              "      fill: #D2E3FC;\n",
              "    }\n",
              "\n",
              "    [theme=dark] .colab-df-convert:hover {\n",
              "      background-color: #434B5C;\n",
              "      box-shadow: 0px 1px 3px 1px rgba(0, 0, 0, 0.15);\n",
              "      filter: drop-shadow(0px 1px 2px rgba(0, 0, 0, 0.3));\n",
              "      fill: #FFFFFF;\n",
              "    }\n",
              "  </style>\n",
              "\n",
              "      <script>\n",
              "        const buttonEl =\n",
              "          document.querySelector('#df-08713316-b88f-4047-9f2c-e6c7fdf1215d button.colab-df-convert');\n",
              "        buttonEl.style.display =\n",
              "          google.colab.kernel.accessAllowed ? 'block' : 'none';\n",
              "\n",
              "        async function convertToInteractive(key) {\n",
              "          const element = document.querySelector('#df-08713316-b88f-4047-9f2c-e6c7fdf1215d');\n",
              "          const dataTable =\n",
              "            await google.colab.kernel.invokeFunction('convertToInteractive',\n",
              "                                                     [key], {});\n",
              "          if (!dataTable) return;\n",
              "\n",
              "          const docLinkHtml = 'Like what you see? Visit the ' +\n",
              "            '<a target=\"_blank\" href=https://colab.research.google.com/notebooks/data_table.ipynb>data table notebook</a>'\n",
              "            + ' to learn more about interactive tables.';\n",
              "          element.innerHTML = '';\n",
              "          dataTable['output_type'] = 'display_data';\n",
              "          await google.colab.output.renderOutput(dataTable, element);\n",
              "          const docLink = document.createElement('div');\n",
              "          docLink.innerHTML = docLinkHtml;\n",
              "          element.appendChild(docLink);\n",
              "        }\n",
              "      </script>\n",
              "    </div>\n",
              "  </div>\n",
              "  "
            ],
            "text/plain": [
              "      TotalCharges  tenure  ...  InternetService     DeviceProtection\n",
              "5534       1747.20      21  ...      Fiber optic                   No\n",
              "608        8306.05      72  ...      Fiber optic                  Yes\n",
              "5930       6185.15      72  ...      Fiber optic                   No\n",
              "5743        735.90      38  ...               No  No internet service\n",
              "3654       2433.50      28  ...      Fiber optic                  Yes\n",
              "...            ...     ...  ...              ...                  ...\n",
              "6643        239.05       3  ...      Fiber optic                   No\n",
              "1306       8127.60      70  ...      Fiber optic                  Yes\n",
              "158        1024.00      16  ...              DSL                  Yes\n",
              "2176       1284.20      67  ...               No  No internet service\n",
              "4550       1988.05      72  ...               No  No internet service\n",
              "\n",
              "[5009 rows x 6 columns]"
            ]
          },
          "metadata": {},
          "execution_count": 37
        }
      ]
    },
    {
      "cell_type": "markdown",
      "source": [
        "##Feature Encoding"
      ],
      "metadata": {
        "id": "g1NkqDk2EdYd"
      }
    },
    {
      "cell_type": "markdown",
      "source": [
        "Encode with one hot encoding to the categorical variables"
      ],
      "metadata": {
        "id": "3pv_px09O0YL"
      }
    },
    {
      "cell_type": "code",
      "source": [
        "cat = ['Contract','InternetService','DeviceProtection']\n",
        "X_train = pd.get_dummies(X_train, prefix='', prefix_sep='', \n",
        "                            columns=cat)\n",
        "X_test = pd.get_dummies(X_test, prefix='', prefix_sep='', \n",
        "                            columns=cat)\n",
        "X_val = pd.get_dummies(X_val, prefix='', prefix_sep='', \n",
        "                            columns=cat)"
      ],
      "metadata": {
        "id": "YDgkj-EDHmOg"
      },
      "execution_count": null,
      "outputs": []
    },
    {
      "cell_type": "code",
      "source": [
        "X_train.shape, X_test.shape, X_val.shape"
      ],
      "metadata": {
        "colab": {
          "base_uri": "https://localhost:8080/"
        },
        "id": "kYWg4Y9yH200",
        "outputId": "15f8798f-149e-4c2e-ccdf-5510dd19f0e5"
      },
      "execution_count": null,
      "outputs": [
        {
          "output_type": "execute_result",
          "data": {
            "text/plain": [
              "((5009, 12), (1758, 12), (265, 12))"
            ]
          },
          "metadata": {},
          "execution_count": 39
        }
      ]
    },
    {
      "cell_type": "markdown",
      "source": [
        "Encode target variable"
      ],
      "metadata": {
        "id": "AsEYRGEmJWXQ"
      }
    },
    {
      "cell_type": "code",
      "source": [
        "cleanup_nums = {\n",
        "    'Yes' : 1,\n",
        "    'No' : 0 \n",
        "}\n",
        "\n",
        "y_train = y_train.replace(cleanup_nums)\n",
        "y_test = y_test.replace(cleanup_nums)\n",
        "y_val = y_val.replace(cleanup_nums)"
      ],
      "metadata": {
        "id": "s9hRy1ZUIhFI"
      },
      "execution_count": null,
      "outputs": []
    },
    {
      "cell_type": "code",
      "source": [
        "y_train"
      ],
      "metadata": {
        "colab": {
          "base_uri": "https://localhost:8080/"
        },
        "id": "jQO4lyypJC8c",
        "outputId": "eea13597-e212-4c6b-cfae-df8dcf15ef89"
      },
      "execution_count": null,
      "outputs": [
        {
          "output_type": "execute_result",
          "data": {
            "text/plain": [
              "5534    0\n",
              "608     0\n",
              "5930    0\n",
              "5743    0\n",
              "3654    0\n",
              "       ..\n",
              "6643    0\n",
              "1306    1\n",
              "158     0\n",
              "2176    0\n",
              "4550    0\n",
              "Name: Churn, Length: 5009, dtype: int64"
            ]
          },
          "metadata": {},
          "execution_count": 41
        }
      ]
    },
    {
      "cell_type": "markdown",
      "source": [
        "##Handle Imbalance Data"
      ],
      "metadata": {
        "id": "ZEqyDNHVvKU6"
      }
    },
    {
      "cell_type": "markdown",
      "source": [
        "Turn the data to tensor and normalize the train data to use SMOTE"
      ],
      "metadata": {
        "id": "q7U1EP8Tv2vf"
      }
    },
    {
      "cell_type": "code",
      "source": [
        "X_train = tf.convert_to_tensor(X_train)\n",
        "normalizer = tf.keras.layers.Normalization(axis = -1)\n",
        "normalizer.adapt(X_train)\n",
        "X_train = normalizer(X_train)"
      ],
      "metadata": {
        "id": "7Ue5heByvZVl"
      },
      "execution_count": null,
      "outputs": []
    },
    {
      "cell_type": "markdown",
      "source": [
        "Change the X_train data into numpy"
      ],
      "metadata": {
        "id": "hlpseI2ZzFvP"
      }
    },
    {
      "cell_type": "code",
      "source": [
        "X_train = X_train.numpy()"
      ],
      "metadata": {
        "id": "z9yWkkIXzLRs"
      },
      "execution_count": null,
      "outputs": []
    },
    {
      "cell_type": "markdown",
      "source": [
        "Use SMOTE"
      ],
      "metadata": {
        "id": "935-tMzEzRzu"
      }
    },
    {
      "cell_type": "code",
      "source": [
        "# Minority Class will have same the same number as the majority class\n",
        "X_train_resampled, y_train_resampled = SMOTE().fit_resample(X_train, y_train)\n",
        "y_train_resampled.value_counts()"
      ],
      "metadata": {
        "colab": {
          "base_uri": "https://localhost:8080/"
        },
        "id": "lPUV7wzEzTaU",
        "outputId": "599102de-c595-4e7d-d3f5-1bfe2a242045"
      },
      "execution_count": null,
      "outputs": [
        {
          "output_type": "execute_result",
          "data": {
            "text/plain": [
              "1    3677\n",
              "0    3677\n",
              "Name: Churn, dtype: int64"
            ]
          },
          "metadata": {},
          "execution_count": 44
        }
      ]
    },
    {
      "cell_type": "code",
      "source": [
        "X_train_resampled.shape"
      ],
      "metadata": {
        "colab": {
          "base_uri": "https://localhost:8080/"
        },
        "id": "WIGhloOHL_b8",
        "outputId": "651c8af5-6cc0-44e9-d74e-33e531027a68"
      },
      "execution_count": null,
      "outputs": [
        {
          "output_type": "execute_result",
          "data": {
            "text/plain": [
              "(7354, 12)"
            ]
          },
          "metadata": {},
          "execution_count": 45
        }
      ]
    },
    {
      "cell_type": "code",
      "source": [
        "y_train_resampled.shape"
      ],
      "metadata": {
        "colab": {
          "base_uri": "https://localhost:8080/"
        },
        "id": "xzD0LIJPIkSo",
        "outputId": "7a8e420d-3000-40f6-a7f0-9a0bc31804d8"
      },
      "execution_count": null,
      "outputs": [
        {
          "output_type": "execute_result",
          "data": {
            "text/plain": [
              "(7354,)"
            ]
          },
          "metadata": {},
          "execution_count": 46
        }
      ]
    },
    {
      "cell_type": "markdown",
      "source": [
        "#Modelling"
      ],
      "metadata": {
        "id": "QAhqIg9wJm1e"
      }
    },
    {
      "cell_type": "markdown",
      "source": [
        "We use pipeline to shuffle and create the data with a separate element for each row of the input tensor"
      ],
      "metadata": {
        "id": "8nekcZV4POd5"
      }
    },
    {
      "cell_type": "code",
      "source": [
        "train = tf.data.Dataset.from_tensor_slices((X_train_resampled, y_train_resampled)).shuffle(100).batch(100)\n",
        "test = tf.data.Dataset.from_tensor_slices((X_test, y_test)).shuffle(100).batch(100)\n",
        "val = tf.data.Dataset.from_tensor_slices((X_val, y_val)).shuffle(100).batch(100)"
      ],
      "metadata": {
        "id": "X2rUkahjeWWr"
      },
      "execution_count": null,
      "outputs": []
    },
    {
      "cell_type": "markdown",
      "source": [
        "We use sequential API to build the base model, we try to make 2 hidden layers using relu activation function for input layer and hidden layer, sigmoid activation function for the output layer. In input layer we use 12 features as the input"
      ],
      "metadata": {
        "id": "FxYNxXs7P4K1"
      }
    },
    {
      "cell_type": "code",
      "source": [
        "model = Sequential()\n",
        "model.add(Dense(12,activation='relu', input_shape=(12,)))\n",
        "model.add(normalizer)\n",
        "model.add(Dense(8, activation='relu'))\n",
        "model.add(Dense(4, activation='relu'))\n",
        "model.add(Dense(1, activation='sigmoid'))"
      ],
      "metadata": {
        "id": "ScEVyh7qRDiq"
      },
      "execution_count": null,
      "outputs": []
    },
    {
      "cell_type": "code",
      "source": [
        "model.summary()"
      ],
      "metadata": {
        "colab": {
          "base_uri": "https://localhost:8080/"
        },
        "id": "Ms99_5o0RuYu",
        "outputId": "bfde7faa-af60-4b4a-c7d3-56fbbe7c4af8"
      },
      "execution_count": null,
      "outputs": [
        {
          "output_type": "stream",
          "name": "stdout",
          "text": [
            "Model: \"sequential_1\"\n",
            "_________________________________________________________________\n",
            " Layer (type)                Output Shape              Param #   \n",
            "=================================================================\n",
            " dense_1 (Dense)             (None, 12)                156       \n",
            "                                                                 \n",
            " normalization (Normalizatio  (None, 12)               25        \n",
            " n)                                                              \n",
            "                                                                 \n",
            " dense_2 (Dense)             (None, 8)                 104       \n",
            "                                                                 \n",
            " dense_3 (Dense)             (None, 4)                 36        \n",
            "                                                                 \n",
            " dense_4 (Dense)             (None, 1)                 5         \n",
            "                                                                 \n",
            "=================================================================\n",
            "Total params: 326\n",
            "Trainable params: 301\n",
            "Non-trainable params: 25\n",
            "_________________________________________________________________\n"
          ]
        }
      ]
    },
    {
      "cell_type": "markdown",
      "source": [
        "For the optimzer we use adam and binary crossentropy for the loss function. The metrics that we use accuracy. Then we fit the model with 50 epochs"
      ],
      "metadata": {
        "id": "oqdAqkrmR9Hr"
      }
    },
    {
      "cell_type": "code",
      "source": [
        "model.compile(optimizer='adam', loss=tf.keras.losses.BinaryCrossentropy(from_logits=True),\n",
        "                metrics=['accuracy'] )\n",
        "\n",
        "# history = model.fit(X_train_resampled, y_train_resampled, epochs = 30, validation_data=(X_val, y_val))\n",
        "history = model.fit(train, epochs = 50, validation_data = val)"
      ],
      "metadata": {
        "colab": {
          "base_uri": "https://localhost:8080/"
        },
        "id": "8KiyascfRz-f",
        "outputId": "171ed302-520a-47d9-eb83-2d9a35b98451"
      },
      "execution_count": null,
      "outputs": [
        {
          "output_type": "stream",
          "name": "stdout",
          "text": [
            "Epoch 1/50\n",
            "74/74 [==============================] - 3s 9ms/step - loss: 0.6231 - accuracy: 0.6874 - val_loss: 81.2321 - val_accuracy: 0.2642\n",
            "Epoch 2/50\n",
            "74/74 [==============================] - 0s 6ms/step - loss: 0.5783 - accuracy: 0.7223 - val_loss: 64.8433 - val_accuracy: 0.2642\n",
            "Epoch 3/50\n",
            "74/74 [==============================] - 0s 6ms/step - loss: 0.5613 - accuracy: 0.7380 - val_loss: 59.8031 - val_accuracy: 0.2642\n",
            "Epoch 4/50\n",
            "74/74 [==============================] - 0s 5ms/step - loss: 0.5516 - accuracy: 0.7423 - val_loss: 54.6427 - val_accuracy: 0.2642\n",
            "Epoch 5/50\n",
            "74/74 [==============================] - 0s 7ms/step - loss: 0.5455 - accuracy: 0.7419 - val_loss: 52.2911 - val_accuracy: 0.2642\n",
            "Epoch 6/50\n",
            "74/74 [==============================] - 0s 5ms/step - loss: 0.5415 - accuracy: 0.7430 - val_loss: 49.6987 - val_accuracy: 0.2642\n",
            "Epoch 7/50\n",
            "74/74 [==============================] - 0s 5ms/step - loss: 0.5389 - accuracy: 0.7430 - val_loss: 54.2807 - val_accuracy: 0.2642\n",
            "Epoch 8/50\n",
            "74/74 [==============================] - 0s 4ms/step - loss: 0.5375 - accuracy: 0.7430 - val_loss: 56.6593 - val_accuracy: 0.2642\n",
            "Epoch 9/50\n",
            "74/74 [==============================] - 0s 4ms/step - loss: 0.5357 - accuracy: 0.7422 - val_loss: 62.5335 - val_accuracy: 0.2642\n",
            "Epoch 10/50\n",
            "74/74 [==============================] - 0s 5ms/step - loss: 0.5347 - accuracy: 0.7410 - val_loss: 69.3340 - val_accuracy: 0.2642\n",
            "Epoch 11/50\n",
            "74/74 [==============================] - 0s 5ms/step - loss: 0.5332 - accuracy: 0.7420 - val_loss: 76.4320 - val_accuracy: 0.2642\n",
            "Epoch 12/50\n",
            "74/74 [==============================] - 0s 6ms/step - loss: 0.5319 - accuracy: 0.7418 - val_loss: 85.6309 - val_accuracy: 0.2642\n",
            "Epoch 13/50\n",
            "74/74 [==============================] - 0s 4ms/step - loss: 0.5309 - accuracy: 0.7425 - val_loss: 95.7636 - val_accuracy: 0.2642\n",
            "Epoch 14/50\n",
            "74/74 [==============================] - 0s 5ms/step - loss: 0.5300 - accuracy: 0.7418 - val_loss: 104.3657 - val_accuracy: 0.2642\n",
            "Epoch 15/50\n",
            "74/74 [==============================] - 0s 5ms/step - loss: 0.5290 - accuracy: 0.7425 - val_loss: 112.7674 - val_accuracy: 0.2642\n",
            "Epoch 16/50\n",
            "74/74 [==============================] - 0s 4ms/step - loss: 0.5283 - accuracy: 0.7429 - val_loss: 118.2082 - val_accuracy: 0.2642\n",
            "Epoch 17/50\n",
            "74/74 [==============================] - 0s 3ms/step - loss: 0.5280 - accuracy: 0.7419 - val_loss: 122.4472 - val_accuracy: 0.2642\n",
            "Epoch 18/50\n",
            "74/74 [==============================] - 0s 3ms/step - loss: 0.5273 - accuracy: 0.7420 - val_loss: 119.5366 - val_accuracy: 0.2642\n",
            "Epoch 19/50\n",
            "74/74 [==============================] - 0s 3ms/step - loss: 0.5269 - accuracy: 0.7420 - val_loss: 117.2100 - val_accuracy: 0.2642\n",
            "Epoch 20/50\n",
            "74/74 [==============================] - 0s 3ms/step - loss: 0.5261 - accuracy: 0.7429 - val_loss: 115.5212 - val_accuracy: 0.2642\n",
            "Epoch 21/50\n",
            "74/74 [==============================] - 0s 3ms/step - loss: 0.5258 - accuracy: 0.7427 - val_loss: 105.7151 - val_accuracy: 0.2642\n",
            "Epoch 22/50\n",
            "74/74 [==============================] - 0s 3ms/step - loss: 0.5256 - accuracy: 0.7438 - val_loss: 112.9817 - val_accuracy: 0.2642\n",
            "Epoch 23/50\n",
            "74/74 [==============================] - 0s 3ms/step - loss: 0.5253 - accuracy: 0.7442 - val_loss: 96.9426 - val_accuracy: 0.2642\n",
            "Epoch 24/50\n",
            "74/74 [==============================] - 0s 2ms/step - loss: 0.5248 - accuracy: 0.7448 - val_loss: 93.8768 - val_accuracy: 0.2642\n",
            "Epoch 25/50\n",
            "74/74 [==============================] - 0s 2ms/step - loss: 0.5244 - accuracy: 0.7467 - val_loss: 96.7430 - val_accuracy: 0.2642\n",
            "Epoch 26/50\n",
            "74/74 [==============================] - 0s 3ms/step - loss: 0.5237 - accuracy: 0.7469 - val_loss: 96.2183 - val_accuracy: 0.2642\n",
            "Epoch 27/50\n",
            "74/74 [==============================] - 0s 3ms/step - loss: 0.5231 - accuracy: 0.7469 - val_loss: 101.3526 - val_accuracy: 0.2642\n",
            "Epoch 28/50\n",
            "74/74 [==============================] - 0s 3ms/step - loss: 0.5224 - accuracy: 0.7468 - val_loss: 101.8112 - val_accuracy: 0.2642\n",
            "Epoch 29/50\n",
            "74/74 [==============================] - 0s 2ms/step - loss: 0.5225 - accuracy: 0.7473 - val_loss: 94.7286 - val_accuracy: 0.2642\n",
            "Epoch 30/50\n",
            "74/74 [==============================] - 0s 3ms/step - loss: 0.5218 - accuracy: 0.7473 - val_loss: 102.9973 - val_accuracy: 0.2642\n",
            "Epoch 31/50\n",
            "74/74 [==============================] - 0s 3ms/step - loss: 0.5217 - accuracy: 0.7484 - val_loss: 83.8772 - val_accuracy: 0.2642\n",
            "Epoch 32/50\n",
            "74/74 [==============================] - 0s 3ms/step - loss: 0.5214 - accuracy: 0.7480 - val_loss: 84.2442 - val_accuracy: 0.2642\n",
            "Epoch 33/50\n",
            "74/74 [==============================] - 0s 3ms/step - loss: 0.5211 - accuracy: 0.7486 - val_loss: 82.1077 - val_accuracy: 0.2642\n",
            "Epoch 34/50\n",
            "74/74 [==============================] - 0s 3ms/step - loss: 0.5207 - accuracy: 0.7482 - val_loss: 86.8838 - val_accuracy: 0.2642\n",
            "Epoch 35/50\n",
            "74/74 [==============================] - 0s 3ms/step - loss: 0.5208 - accuracy: 0.7491 - val_loss: 81.4026 - val_accuracy: 0.2642\n",
            "Epoch 36/50\n",
            "74/74 [==============================] - 0s 2ms/step - loss: 0.5202 - accuracy: 0.7495 - val_loss: 81.0549 - val_accuracy: 0.2642\n",
            "Epoch 37/50\n",
            "74/74 [==============================] - 0s 3ms/step - loss: 0.5200 - accuracy: 0.7503 - val_loss: 78.4018 - val_accuracy: 0.2642\n",
            "Epoch 38/50\n",
            "74/74 [==============================] - 0s 3ms/step - loss: 0.5203 - accuracy: 0.7502 - val_loss: 81.8439 - val_accuracy: 0.2642\n",
            "Epoch 39/50\n",
            "74/74 [==============================] - 0s 3ms/step - loss: 0.5205 - accuracy: 0.7501 - val_loss: 74.1232 - val_accuracy: 0.2642\n",
            "Epoch 40/50\n",
            "74/74 [==============================] - 0s 3ms/step - loss: 0.5191 - accuracy: 0.7514 - val_loss: 73.6547 - val_accuracy: 0.2642\n",
            "Epoch 41/50\n",
            "74/74 [==============================] - 0s 2ms/step - loss: 0.5192 - accuracy: 0.7507 - val_loss: 67.8043 - val_accuracy: 0.2642\n",
            "Epoch 42/50\n",
            "74/74 [==============================] - 0s 3ms/step - loss: 0.5188 - accuracy: 0.7510 - val_loss: 66.2328 - val_accuracy: 0.2642\n",
            "Epoch 43/50\n",
            "74/74 [==============================] - 0s 3ms/step - loss: 0.5186 - accuracy: 0.7513 - val_loss: 64.4791 - val_accuracy: 0.2642\n",
            "Epoch 44/50\n",
            "74/74 [==============================] - 0s 3ms/step - loss: 0.5185 - accuracy: 0.7516 - val_loss: 64.2637 - val_accuracy: 0.2642\n",
            "Epoch 45/50\n",
            "74/74 [==============================] - 0s 3ms/step - loss: 0.5181 - accuracy: 0.7517 - val_loss: 58.9636 - val_accuracy: 0.2642\n",
            "Epoch 46/50\n",
            "74/74 [==============================] - 0s 3ms/step - loss: 0.5178 - accuracy: 0.7510 - val_loss: 60.0932 - val_accuracy: 0.2642\n",
            "Epoch 47/50\n",
            "74/74 [==============================] - 0s 2ms/step - loss: 0.5179 - accuracy: 0.7506 - val_loss: 57.4309 - val_accuracy: 0.2642\n",
            "Epoch 48/50\n",
            "74/74 [==============================] - 0s 2ms/step - loss: 0.5176 - accuracy: 0.7524 - val_loss: 49.4016 - val_accuracy: 0.2642\n",
            "Epoch 49/50\n",
            "74/74 [==============================] - 0s 3ms/step - loss: 0.5177 - accuracy: 0.7514 - val_loss: 49.1442 - val_accuracy: 0.2642\n",
            "Epoch 50/50\n",
            "74/74 [==============================] - 0s 3ms/step - loss: 0.5174 - accuracy: 0.7527 - val_loss: 46.5757 - val_accuracy: 0.2642\n"
          ]
        }
      ]
    },
    {
      "cell_type": "code",
      "source": [
        "history.history.keys()"
      ],
      "metadata": {
        "colab": {
          "base_uri": "https://localhost:8080/"
        },
        "id": "v9SEpbBtSFj3",
        "outputId": "b762a4bf-ec18-4bbf-9278-c0e7f08fa684"
      },
      "execution_count": null,
      "outputs": [
        {
          "output_type": "execute_result",
          "data": {
            "text/plain": [
              "dict_keys(['loss', 'accuracy', 'val_loss', 'val_accuracy'])"
            ]
          },
          "metadata": {},
          "execution_count": 52
        }
      ]
    },
    {
      "cell_type": "code",
      "source": [
        "history.history['loss']"
      ],
      "metadata": {
        "colab": {
          "base_uri": "https://localhost:8080/"
        },
        "id": "EcnIsPCZSHiM",
        "outputId": "c0f402be-47a0-4694-e956-c52270005088"
      },
      "execution_count": null,
      "outputs": [
        {
          "output_type": "execute_result",
          "data": {
            "text/plain": [
              "[0.6231100559234619,\n",
              " 0.5782839059829712,\n",
              " 0.561267077922821,\n",
              " 0.5516254901885986,\n",
              " 0.5455012321472168,\n",
              " 0.5414580702781677,\n",
              " 0.5389139652252197,\n",
              " 0.5374785661697388,\n",
              " 0.5357381701469421,\n",
              " 0.5346823334693909,\n",
              " 0.5331961512565613,\n",
              " 0.5319163799285889,\n",
              " 0.5308963656425476,\n",
              " 0.5300184488296509,\n",
              " 0.5290403366088867,\n",
              " 0.5282953381538391,\n",
              " 0.5280106663703918,\n",
              " 0.5272600054740906,\n",
              " 0.5268663763999939,\n",
              " 0.5261258482933044,\n",
              " 0.5258270502090454,\n",
              " 0.5256078243255615,\n",
              " 0.5253487229347229,\n",
              " 0.5248317122459412,\n",
              " 0.5243687033653259,\n",
              " 0.5237330198287964,\n",
              " 0.5230510234832764,\n",
              " 0.5223946571350098,\n",
              " 0.5224553346633911,\n",
              " 0.5218088030815125,\n",
              " 0.5217459201812744,\n",
              " 0.5214298367500305,\n",
              " 0.5210564732551575,\n",
              " 0.5207453370094299,\n",
              " 0.5207595825195312,\n",
              " 0.5202206373214722,\n",
              " 0.5199719071388245,\n",
              " 0.520329475402832,\n",
              " 0.5205077528953552,\n",
              " 0.5190807580947876,\n",
              " 0.5191881656646729,\n",
              " 0.5188271403312683,\n",
              " 0.5186089873313904,\n",
              " 0.5184605121612549,\n",
              " 0.5180817246437073,\n",
              " 0.517761766910553,\n",
              " 0.5178776979446411,\n",
              " 0.5176488757133484,\n",
              " 0.5176774859428406,\n",
              " 0.5174102783203125]"
            ]
          },
          "metadata": {},
          "execution_count": 53
        }
      ]
    },
    {
      "cell_type": "code",
      "source": [
        "# Visualize accuracy and loss for train and validation data\n",
        "\n",
        "acc = history.history['accuracy']\n",
        "val_acc = history.history['val_accuracy']\n",
        "loss = history.history['loss']\n",
        "val_loss = history.history['val_loss']\n",
        "epochs = range(1, len(acc) + 1)\n",
        "\n",
        "plt.title('Training and validation accuracy')\n",
        "plt.plot(epochs, acc, 'red', label='Training acc')\n",
        "plt.plot(epochs, val_acc, 'blue', label='Validation acc')\n",
        "plt.legend()\n",
        "\n",
        "plt.figure()\n",
        "plt.title('Training and validation loss')\n",
        "plt.plot(epochs, loss, 'red', label='Training loss')\n",
        "plt.plot(epochs, val_loss, 'blue', label='Validation loss')\n",
        "\n",
        "plt.legend()\n",
        "plt.show()"
      ],
      "metadata": {
        "colab": {
          "base_uri": "https://localhost:8080/",
          "height": 545
        },
        "id": "UfRvjiGzSVTq",
        "outputId": "d38a6076-5ca3-46c9-fb26-704a6be52a0e"
      },
      "execution_count": null,
      "outputs": [
        {
          "output_type": "display_data",
          "data": {
            "image/png": "[encoded data removed]",
            "text/plain": [
              "<Figure size 432x288 with 1 Axes>"
            ]
          },
          "metadata": {
            "needs_background": "light"
          }
        },
        {
          "output_type": "display_data",
          "data": {
            "image/png": "[encoded data removed]",
            "text/plain": [
              "<Figure size 432x288 with 1 Axes>"
            ]
          },
          "metadata": {
            "needs_background": "light"
          }
        }
      ]
    },
    {
      "cell_type": "markdown",
      "source": [
        "In the accuracy result on the base model, the result is a little bit over-fit. \n",
        "\n",
        "For the loss result, it is obviously under-fit because the validation loss is pretty much higher than the training loss, this could be because we haven't try any effort to optimize the model like dropout, regularization, and etc."
      ],
      "metadata": {
        "id": "vD51SCsMSNfF"
      }
    },
    {
      "cell_type": "markdown",
      "source": [
        "#Model Optimization"
      ],
      "metadata": {
        "id": "cEnaogLUU8hQ"
      }
    },
    {
      "cell_type": "code",
      "source": [
        "train = tf.data.Dataset.from_tensor_slices((X_train_resampled, y_train_resampled)).shuffle(100).batch(150)\n",
        "test = tf.data.Dataset.from_tensor_slices((X_test, y_test)).shuffle(100).batch(150)\n",
        "val = tf.data.Dataset.from_tensor_slices((X_val, y_val)).shuffle(100).batch(150)"
      ],
      "metadata": {
        "id": "g6VNpSjakYHT"
      },
      "execution_count": null,
      "outputs": []
    },
    {
      "cell_type": "markdown",
      "source": [
        "In this model optimazation, we use sequential API to train the model, we still use 2 hidden layers cause the input layer is not really that much. We still also use all of the activation function in the base model. AFter we normalize the input we use dropout and batch normalization in each layers and also we use regularizer in each hidden layers."
      ],
      "metadata": {
        "id": "a_3-IlW_WBUS"
      }
    },
    {
      "cell_type": "code",
      "source": [
        "model = Sequential()\n",
        "model.add(Dense(12,activation='relu', input_shape=(12,)))\n",
        "model.add(normalizer)\n",
        "model.add(Dropout(0.2))\n",
        "model.add(BatchNormalization())\n",
        "model.add(Dense(8, activation='relu',kernel_initializer=\"he_normal\",kernel_regularizer=l2(0.1), bias_regularizer=l2(0.1)))\n",
        "model.add(Dropout(0.2))\n",
        "model.add(BatchNormalization())\n",
        "model.add(Dense(4, activation='relu',kernel_initializer=\"he_normal\",kernel_regularizer=l2(0.1), bias_regularizer=l2(0.1)))\n",
        "model.add(Dropout(0.2))\n",
        "model.add(BatchNormalization())\n",
        "model.add(Dense(2, activation='relu',kernel_initializer=\"he_normal\",kernel_regularizer=l2(0.1), bias_regularizer=l2(0.1)))\n",
        "model.add(BatchNormalization())\n",
        "model.add(Dense(1, activation='sigmoid'))"
      ],
      "metadata": {
        "id": "BYiFEwHAU-IR"
      },
      "execution_count": null,
      "outputs": []
    },
    {
      "cell_type": "code",
      "source": [
        "model.summary()"
      ],
      "metadata": {
        "colab": {
          "base_uri": "https://localhost:8080/"
        },
        "id": "nfZ0f5xHVCo9",
        "outputId": "d0897185-6d3d-4427-ac23-1d4f0b8a1080"
      },
      "execution_count": null,
      "outputs": [
        {
          "output_type": "stream",
          "name": "stdout",
          "text": [
            "Model: \"sequential_13\"\n",
            "_________________________________________________________________\n",
            " Layer (type)                Output Shape              Param #   \n",
            "=================================================================\n",
            " dense_51 (Dense)            (None, 12)                156       \n",
            "                                                                 \n",
            " normalization (Normalizatio  (None, 12)               25        \n",
            " n)                                                              \n",
            "                                                                 \n",
            " dropout_35 (Dropout)        (None, 12)                0         \n",
            "                                                                 \n",
            " batch_normalization_35 (Bat  (None, 12)               48        \n",
            " chNormalization)                                                \n",
            "                                                                 \n",
            " dense_52 (Dense)            (None, 8)                 104       \n",
            "                                                                 \n",
            " dropout_36 (Dropout)        (None, 8)                 0         \n",
            "                                                                 \n",
            " batch_normalization_36 (Bat  (None, 8)                32        \n",
            " chNormalization)                                                \n",
            "                                                                 \n",
            " dense_53 (Dense)            (None, 4)                 36        \n",
            "                                                                 \n",
            " dropout_37 (Dropout)        (None, 4)                 0         \n",
            "                                                                 \n",
            " batch_normalization_37 (Bat  (None, 4)                16        \n",
            " chNormalization)                                                \n",
            "                                                                 \n",
            " dense_54 (Dense)            (None, 2)                 10        \n",
            "                                                                 \n",
            " batch_normalization_38 (Bat  (None, 2)                8         \n",
            " chNormalization)                                                \n",
            "                                                                 \n",
            " dense_55 (Dense)            (None, 1)                 3         \n",
            "                                                                 \n",
            "=================================================================\n",
            "Total params: 438\n",
            "Trainable params: 361\n",
            "Non-trainable params: 77\n",
            "_________________________________________________________________\n"
          ]
        }
      ]
    },
    {
      "cell_type": "markdown",
      "source": [
        "In the optimizer we set the learning rate by 0.01, the other parameters are still the same with the base model.\n",
        "\n",
        "We try the epoch with 100 iteration"
      ],
      "metadata": {
        "id": "WMxMnoLEXYj2"
      }
    },
    {
      "cell_type": "code",
      "source": [
        "opt = tf.keras.optimizers.Adam(learning_rate = 0.1)\n",
        "sgd = tf.keras.optimizers.SGD(\n",
        "    learning_rate=0.1, momentum=0.0, clipnorm=1.0, nesterov=False, name=\"SGD\"\n",
        ")\n",
        "model.compile(loss = 'binary_crossentropy',\n",
        "              optimizer = sgd,\n",
        "              metrics = ['accuracy'])\n",
        "\n",
        "# model.compile(optimizer='adamax', loss=tf.keras.losses.BinaryCrossentropy(from_logits=True),\n",
        "#                 metrics=['accuracy'] )\n",
        "\n",
        "# history = model.fit(X_train_resampled, y_train_resampled, epochs = 30, validation_data=(X_val, y_val))\n",
        "history = model.fit(train, epochs = 100, validation_data = val)"
      ],
      "metadata": {
        "colab": {
          "base_uri": "https://localhost:8080/"
        },
        "id": "6MaBguKuVC8d",
        "outputId": "5271dd7a-1afe-4b30-fa36-8d0ca126ee87"
      },
      "execution_count": null,
      "outputs": [
        {
          "output_type": "stream",
          "name": "stdout",
          "text": [
            "Epoch 1/100\n",
            "50/50 [==============================] - 5s 17ms/step - loss: 1.7328 - accuracy: 0.5917 - val_loss: 1.8301 - val_accuracy: 0.7245\n",
            "Epoch 2/100\n",
            "50/50 [==============================] - 0s 6ms/step - loss: 0.8119 - accuracy: 0.5801 - val_loss: 0.7898 - val_accuracy: 0.4453\n",
            "Epoch 3/100\n",
            "50/50 [==============================] - 0s 8ms/step - loss: 0.6862 - accuracy: 0.6410 - val_loss: 0.9303 - val_accuracy: 0.2642\n",
            "Epoch 4/100\n",
            "50/50 [==============================] - 0s 7ms/step - loss: 0.6683 - accuracy: 0.6527 - val_loss: 0.7254 - val_accuracy: 0.5057\n",
            "Epoch 5/100\n",
            "50/50 [==============================] - 0s 6ms/step - loss: 0.6709 - accuracy: 0.6507 - val_loss: 0.8256 - val_accuracy: 0.3434\n",
            "Epoch 6/100\n",
            "50/50 [==============================] - 0s 7ms/step - loss: 0.6682 - accuracy: 0.6581 - val_loss: 0.8786 - val_accuracy: 0.2642\n",
            "Epoch 7/100\n",
            "50/50 [==============================] - 0s 7ms/step - loss: 0.6618 - accuracy: 0.6499 - val_loss: 0.9468 - val_accuracy: 0.2642\n",
            "Epoch 8/100\n",
            "50/50 [==============================] - 1s 12ms/step - loss: 0.6685 - accuracy: 0.6592 - val_loss: 0.7232 - val_accuracy: 0.5208\n",
            "Epoch 9/100\n",
            "50/50 [==============================] - 1s 11ms/step - loss: 0.6640 - accuracy: 0.6456 - val_loss: 0.8719 - val_accuracy: 0.3132\n",
            "Epoch 10/100\n",
            "50/50 [==============================] - 1s 11ms/step - loss: 0.6668 - accuracy: 0.6543 - val_loss: 3.1401 - val_accuracy: 0.6868\n",
            "Epoch 11/100\n",
            "50/50 [==============================] - 0s 4ms/step - loss: 0.6730 - accuracy: 0.6545 - val_loss: 0.7317 - val_accuracy: 0.5094\n",
            "Epoch 12/100\n",
            "50/50 [==============================] - 0s 5ms/step - loss: 0.6647 - accuracy: 0.6709 - val_loss: 0.9688 - val_accuracy: 0.6151\n",
            "Epoch 13/100\n",
            "50/50 [==============================] - 0s 4ms/step - loss: 0.6664 - accuracy: 0.6512 - val_loss: 1.0254 - val_accuracy: 0.2642\n",
            "Epoch 14/100\n",
            "50/50 [==============================] - 0s 4ms/step - loss: 0.6646 - accuracy: 0.6494 - val_loss: 5.2127 - val_accuracy: 0.7509\n",
            "Epoch 15/100\n",
            "50/50 [==============================] - 0s 4ms/step - loss: 0.6640 - accuracy: 0.6630 - val_loss: 0.7910 - val_accuracy: 0.5434\n",
            "Epoch 16/100\n",
            "50/50 [==============================] - 0s 4ms/step - loss: 0.6638 - accuracy: 0.6552 - val_loss: 0.7322 - val_accuracy: 0.5434\n",
            "Epoch 17/100\n",
            "50/50 [==============================] - 0s 5ms/step - loss: 0.6688 - accuracy: 0.6451 - val_loss: 1.1152 - val_accuracy: 0.2189\n",
            "Epoch 18/100\n",
            "50/50 [==============================] - 0s 4ms/step - loss: 0.6623 - accuracy: 0.6683 - val_loss: 1.0180 - val_accuracy: 0.2226\n",
            "Epoch 19/100\n",
            "50/50 [==============================] - 0s 5ms/step - loss: 0.6639 - accuracy: 0.6674 - val_loss: 3.5072 - val_accuracy: 0.7321\n",
            "Epoch 20/100\n",
            "50/50 [==============================] - 0s 4ms/step - loss: 0.6660 - accuracy: 0.6649 - val_loss: 1.4103 - val_accuracy: 0.6302\n",
            "Epoch 21/100\n",
            "50/50 [==============================] - 0s 4ms/step - loss: 0.6573 - accuracy: 0.6590 - val_loss: 1.0926 - val_accuracy: 0.2642\n",
            "Epoch 22/100\n",
            "50/50 [==============================] - 0s 4ms/step - loss: 0.6615 - accuracy: 0.6913 - val_loss: 2.8858 - val_accuracy: 0.6868\n",
            "Epoch 23/100\n",
            "50/50 [==============================] - 0s 5ms/step - loss: 0.6624 - accuracy: 0.6670 - val_loss: 2.5838 - val_accuracy: 0.7358\n",
            "Epoch 24/100\n",
            "50/50 [==============================] - 0s 4ms/step - loss: 0.6556 - accuracy: 0.6610 - val_loss: 1.0058 - val_accuracy: 0.6566\n",
            "Epoch 25/100\n",
            "50/50 [==============================] - 0s 4ms/step - loss: 0.6611 - accuracy: 0.6741 - val_loss: 17.8962 - val_accuracy: 0.7321\n",
            "Epoch 26/100\n",
            "50/50 [==============================] - 0s 4ms/step - loss: 0.6623 - accuracy: 0.6720 - val_loss: 5.0193 - val_accuracy: 0.7434\n",
            "Epoch 27/100\n",
            "50/50 [==============================] - 0s 5ms/step - loss: 0.6570 - accuracy: 0.6651 - val_loss: 1.1510 - val_accuracy: 0.2189\n",
            "Epoch 28/100\n",
            "50/50 [==============================] - 0s 5ms/step - loss: 0.6591 - accuracy: 0.6791 - val_loss: 1.0023 - val_accuracy: 0.2679\n",
            "Epoch 29/100\n",
            "50/50 [==============================] - 0s 5ms/step - loss: 0.6596 - accuracy: 0.6754 - val_loss: 4.7388 - val_accuracy: 0.7509\n",
            "Epoch 30/100\n",
            "50/50 [==============================] - 0s 4ms/step - loss: 0.6541 - accuracy: 0.6486 - val_loss: 1.1434 - val_accuracy: 0.6717\n",
            "Epoch 31/100\n",
            "50/50 [==============================] - 0s 4ms/step - loss: 0.6599 - accuracy: 0.7052 - val_loss: 12.8057 - val_accuracy: 0.7358\n",
            "Epoch 32/100\n",
            "50/50 [==============================] - 0s 5ms/step - loss: 0.6657 - accuracy: 0.6833 - val_loss: 3.5387 - val_accuracy: 0.7019\n",
            "Epoch 33/100\n",
            "50/50 [==============================] - 0s 4ms/step - loss: 0.6960 - accuracy: 0.5439 - val_loss: 1.2654 - val_accuracy: 0.2642\n",
            "Epoch 34/100\n",
            "50/50 [==============================] - 0s 4ms/step - loss: 0.6940 - accuracy: 0.5424 - val_loss: 1.1425 - val_accuracy: 0.2642\n",
            "Epoch 35/100\n",
            "50/50 [==============================] - 0s 4ms/step - loss: 0.6939 - accuracy: 0.5337 - val_loss: 1.0558 - val_accuracy: 0.2642\n",
            "Epoch 36/100\n",
            "50/50 [==============================] - 0s 4ms/step - loss: 0.6941 - accuracy: 0.5427 - val_loss: 0.9965 - val_accuracy: 0.2642\n",
            "Epoch 37/100\n",
            "50/50 [==============================] - 0s 4ms/step - loss: 0.6942 - accuracy: 0.5332 - val_loss: 0.9563 - val_accuracy: 0.2642\n",
            "Epoch 38/100\n",
            "50/50 [==============================] - 0s 5ms/step - loss: 0.6942 - accuracy: 0.5324 - val_loss: 0.9296 - val_accuracy: 0.2642\n",
            "Epoch 39/100\n",
            "50/50 [==============================] - 0s 4ms/step - loss: 0.6944 - accuracy: 0.5318 - val_loss: 0.9119 - val_accuracy: 0.2642\n",
            "Epoch 40/100\n",
            "50/50 [==============================] - 0s 5ms/step - loss: 0.6945 - accuracy: 0.5307 - val_loss: 0.9001 - val_accuracy: 0.2642\n",
            "Epoch 41/100\n",
            "50/50 [==============================] - 0s 4ms/step - loss: 0.6945 - accuracy: 0.5335 - val_loss: 0.8921 - val_accuracy: 0.2642\n",
            "Epoch 42/100\n",
            "50/50 [==============================] - 0s 4ms/step - loss: 0.6947 - accuracy: 0.5318 - val_loss: 0.8861 - val_accuracy: 0.2642\n",
            "Epoch 43/100\n",
            "50/50 [==============================] - 0s 4ms/step - loss: 0.6947 - accuracy: 0.5332 - val_loss: 0.8817 - val_accuracy: 0.2642\n",
            "Epoch 44/100\n",
            "50/50 [==============================] - 0s 4ms/step - loss: 0.6949 - accuracy: 0.5307 - val_loss: 0.8781 - val_accuracy: 0.2642\n",
            "Epoch 45/100\n",
            "50/50 [==============================] - 0s 4ms/step - loss: 0.6948 - accuracy: 0.5318 - val_loss: 0.8752 - val_accuracy: 0.2642\n",
            "Epoch 46/100\n",
            "50/50 [==============================] - 0s 4ms/step - loss: 0.6949 - accuracy: 0.5332 - val_loss: 0.8727 - val_accuracy: 0.2642\n",
            "Epoch 47/100\n",
            "50/50 [==============================] - 0s 5ms/step - loss: 0.6950 - accuracy: 0.5313 - val_loss: 0.8704 - val_accuracy: 0.2642\n",
            "Epoch 48/100\n",
            "50/50 [==============================] - 0s 5ms/step - loss: 0.6950 - accuracy: 0.5324 - val_loss: 0.8683 - val_accuracy: 0.2642\n",
            "Epoch 49/100\n",
            "50/50 [==============================] - 0s 4ms/step - loss: 0.6951 - accuracy: 0.5305 - val_loss: 0.8664 - val_accuracy: 0.2642\n",
            "Epoch 50/100\n",
            "50/50 [==============================] - 0s 5ms/step - loss: 0.6951 - accuracy: 0.5329 - val_loss: 0.8646 - val_accuracy: 0.2642\n",
            "Epoch 51/100\n",
            "50/50 [==============================] - 0s 4ms/step - loss: 0.6953 - accuracy: 0.5318 - val_loss: 0.8629 - val_accuracy: 0.2642\n",
            "Epoch 52/100\n",
            "50/50 [==============================] - 0s 5ms/step - loss: 0.6952 - accuracy: 0.5326 - val_loss: 0.8614 - val_accuracy: 0.2642\n",
            "Epoch 53/100\n",
            "50/50 [==============================] - 0s 4ms/step - loss: 0.6953 - accuracy: 0.5329 - val_loss: 0.8596 - val_accuracy: 0.2642\n",
            "Epoch 54/100\n",
            "50/50 [==============================] - 0s 5ms/step - loss: 0.6953 - accuracy: 0.5318 - val_loss: 0.8584 - val_accuracy: 0.2642\n",
            "Epoch 55/100\n",
            "50/50 [==============================] - 0s 5ms/step - loss: 0.6953 - accuracy: 0.5313 - val_loss: 0.8570 - val_accuracy: 0.2642\n",
            "Epoch 56/100\n",
            "50/50 [==============================] - 0s 4ms/step - loss: 0.6953 - accuracy: 0.5332 - val_loss: 0.8559 - val_accuracy: 0.2642\n",
            "Epoch 57/100\n",
            "50/50 [==============================] - 0s 4ms/step - loss: 0.6954 - accuracy: 0.5321 - val_loss: 0.8545 - val_accuracy: 0.2642\n",
            "Epoch 58/100\n",
            "50/50 [==============================] - 0s 5ms/step - loss: 0.6954 - accuracy: 0.5220 - val_loss: 0.8533 - val_accuracy: 0.2642\n",
            "Epoch 59/100\n",
            "50/50 [==============================] - 0s 4ms/step - loss: 0.6954 - accuracy: 0.5326 - val_loss: 0.8522 - val_accuracy: 0.2642\n",
            "Epoch 60/100\n",
            "50/50 [==============================] - 0s 5ms/step - loss: 0.6955 - accuracy: 0.5231 - val_loss: 0.8511 - val_accuracy: 0.2642\n",
            "Epoch 61/100\n",
            "50/50 [==============================] - 0s 5ms/step - loss: 0.6955 - accuracy: 0.5321 - val_loss: 0.8503 - val_accuracy: 0.2642\n",
            "Epoch 62/100\n",
            "50/50 [==============================] - 0s 5ms/step - loss: 0.6955 - accuracy: 0.5226 - val_loss: 0.8493 - val_accuracy: 0.2642\n",
            "Epoch 63/100\n",
            "50/50 [==============================] - 0s 4ms/step - loss: 0.6955 - accuracy: 0.5212 - val_loss: 0.8485 - val_accuracy: 0.2642\n",
            "Epoch 64/100\n",
            "50/50 [==============================] - 0s 5ms/step - loss: 0.6955 - accuracy: 0.5220 - val_loss: 0.8477 - val_accuracy: 0.2642\n",
            "Epoch 65/100\n",
            "50/50 [==============================] - 0s 4ms/step - loss: 0.6956 - accuracy: 0.5237 - val_loss: 0.8468 - val_accuracy: 0.2642\n",
            "Epoch 66/100\n",
            "50/50 [==============================] - 0s 4ms/step - loss: 0.6956 - accuracy: 0.5223 - val_loss: 0.8460 - val_accuracy: 0.2642\n",
            "Epoch 67/100\n",
            "50/50 [==============================] - 0s 5ms/step - loss: 0.6956 - accuracy: 0.5218 - val_loss: 0.8454 - val_accuracy: 0.2642\n",
            "Epoch 68/100\n",
            "50/50 [==============================] - 0s 4ms/step - loss: 0.6956 - accuracy: 0.5220 - val_loss: 0.8446 - val_accuracy: 0.2642\n",
            "Epoch 69/100\n",
            "50/50 [==============================] - 0s 5ms/step - loss: 0.6957 - accuracy: 0.5220 - val_loss: 0.8440 - val_accuracy: 0.2642\n",
            "Epoch 70/100\n",
            "50/50 [==============================] - 0s 5ms/step - loss: 0.6957 - accuracy: 0.5218 - val_loss: 0.8433 - val_accuracy: 0.2642\n",
            "Epoch 71/100\n",
            "50/50 [==============================] - 0s 5ms/step - loss: 0.6956 - accuracy: 0.5226 - val_loss: 0.8428 - val_accuracy: 0.2642\n",
            "Epoch 72/100\n",
            "50/50 [==============================] - 0s 5ms/step - loss: 0.6957 - accuracy: 0.5218 - val_loss: 0.8424 - val_accuracy: 0.2642\n",
            "Epoch 73/100\n",
            "50/50 [==============================] - 0s 5ms/step - loss: 0.6957 - accuracy: 0.5220 - val_loss: 0.8418 - val_accuracy: 0.2642\n",
            "Epoch 74/100\n",
            "50/50 [==============================] - 0s 5ms/step - loss: 0.6957 - accuracy: 0.5209 - val_loss: 0.8415 - val_accuracy: 0.2642\n",
            "Epoch 75/100\n",
            "50/50 [==============================] - 0s 4ms/step - loss: 0.6958 - accuracy: 0.5226 - val_loss: 0.8410 - val_accuracy: 0.2642\n",
            "Epoch 76/100\n",
            "50/50 [==============================] - 0s 5ms/step - loss: 0.6957 - accuracy: 0.5226 - val_loss: 0.8405 - val_accuracy: 0.2642\n",
            "Epoch 77/100\n",
            "50/50 [==============================] - 0s 5ms/step - loss: 0.6957 - accuracy: 0.5226 - val_loss: 0.8400 - val_accuracy: 0.2642\n",
            "Epoch 78/100\n",
            "50/50 [==============================] - 0s 4ms/step - loss: 0.6957 - accuracy: 0.5223 - val_loss: 0.8396 - val_accuracy: 0.2642\n",
            "Epoch 79/100\n",
            "50/50 [==============================] - 0s 4ms/step - loss: 0.6957 - accuracy: 0.5234 - val_loss: 0.8392 - val_accuracy: 0.2642\n",
            "Epoch 80/100\n",
            "50/50 [==============================] - 0s 4ms/step - loss: 0.6957 - accuracy: 0.5218 - val_loss: 0.8389 - val_accuracy: 0.2642\n",
            "Epoch 81/100\n",
            "50/50 [==============================] - 0s 5ms/step - loss: 0.6958 - accuracy: 0.5228 - val_loss: 0.8385 - val_accuracy: 0.2642\n",
            "Epoch 82/100\n",
            "50/50 [==============================] - 0s 5ms/step - loss: 0.6957 - accuracy: 0.5220 - val_loss: 0.8382 - val_accuracy: 0.2642\n",
            "Epoch 83/100\n",
            "50/50 [==============================] - 0s 5ms/step - loss: 0.6957 - accuracy: 0.5207 - val_loss: 0.8380 - val_accuracy: 0.2642\n",
            "Epoch 84/100\n",
            "50/50 [==============================] - 0s 4ms/step - loss: 0.6957 - accuracy: 0.5212 - val_loss: 0.8377 - val_accuracy: 0.2642\n",
            "Epoch 85/100\n",
            "50/50 [==============================] - 0s 5ms/step - loss: 0.6958 - accuracy: 0.5220 - val_loss: 0.8374 - val_accuracy: 0.2642\n",
            "Epoch 86/100\n",
            "50/50 [==============================] - 0s 5ms/step - loss: 0.6958 - accuracy: 0.5218 - val_loss: 0.8372 - val_accuracy: 0.2642\n",
            "Epoch 87/100\n",
            "50/50 [==============================] - 0s 5ms/step - loss: 0.6958 - accuracy: 0.5212 - val_loss: 0.8371 - val_accuracy: 0.2642\n",
            "Epoch 88/100\n",
            "50/50 [==============================] - 0s 5ms/step - loss: 0.6958 - accuracy: 0.5220 - val_loss: 0.8367 - val_accuracy: 0.2642\n",
            "Epoch 89/100\n",
            "50/50 [==============================] - 0s 5ms/step - loss: 0.6958 - accuracy: 0.5228 - val_loss: 0.8365 - val_accuracy: 0.2642\n",
            "Epoch 90/100\n",
            "50/50 [==============================] - 0s 5ms/step - loss: 0.6957 - accuracy: 0.5218 - val_loss: 0.8364 - val_accuracy: 0.2642\n",
            "Epoch 91/100\n",
            "50/50 [==============================] - 0s 5ms/step - loss: 0.6958 - accuracy: 0.5228 - val_loss: 0.8362 - val_accuracy: 0.2642\n",
            "Epoch 92/100\n",
            "50/50 [==============================] - 0s 4ms/step - loss: 0.6958 - accuracy: 0.5204 - val_loss: 0.8360 - val_accuracy: 0.2642\n",
            "Epoch 93/100\n",
            "50/50 [==============================] - 0s 4ms/step - loss: 0.6957 - accuracy: 0.5223 - val_loss: 0.8358 - val_accuracy: 0.2642\n",
            "Epoch 94/100\n",
            "50/50 [==============================] - 0s 5ms/step - loss: 0.6958 - accuracy: 0.5215 - val_loss: 0.8356 - val_accuracy: 0.2642\n",
            "Epoch 95/100\n",
            "50/50 [==============================] - 0s 5ms/step - loss: 0.6958 - accuracy: 0.5218 - val_loss: 0.8355 - val_accuracy: 0.2642\n",
            "Epoch 96/100\n",
            "50/50 [==============================] - 0s 5ms/step - loss: 0.6958 - accuracy: 0.5223 - val_loss: 0.8353 - val_accuracy: 0.2642\n",
            "Epoch 97/100\n",
            "50/50 [==============================] - 0s 5ms/step - loss: 0.6958 - accuracy: 0.5218 - val_loss: 0.8352 - val_accuracy: 0.2642\n",
            "Epoch 98/100\n",
            "50/50 [==============================] - 0s 5ms/step - loss: 0.6958 - accuracy: 0.5218 - val_loss: 0.8352 - val_accuracy: 0.2642\n",
            "Epoch 99/100\n",
            "50/50 [==============================] - 0s 5ms/step - loss: 0.6958 - accuracy: 0.5220 - val_loss: 0.8349 - val_accuracy: 0.2642\n",
            "Epoch 100/100\n",
            "50/50 [==============================] - 0s 4ms/step - loss: 0.6958 - accuracy: 0.5199 - val_loss: 0.8349 - val_accuracy: 0.2642\n"
          ]
        }
      ]
    },
    {
      "cell_type": "code",
      "source": [
        "history.history.keys()"
      ],
      "metadata": {
        "colab": {
          "base_uri": "https://localhost:8080/"
        },
        "id": "9vFxgHrCVI9f",
        "outputId": "042112a7-8a2b-4c44-9bc2-1c652334ed35"
      },
      "execution_count": null,
      "outputs": [
        {
          "output_type": "execute_result",
          "data": {
            "text/plain": [
              "dict_keys(['loss', 'accuracy', 'val_loss', 'val_accuracy'])"
            ]
          },
          "metadata": {},
          "execution_count": 228
        }
      ]
    },
    {
      "cell_type": "code",
      "source": [
        "history.history['loss']"
      ],
      "metadata": {
        "colab": {
          "base_uri": "https://localhost:8080/"
        },
        "id": "MM6sqwMgVJSz",
        "outputId": "ea9a1284-0ccf-4d10-ee19-813b800da835"
      },
      "execution_count": null,
      "outputs": [
        {
          "output_type": "execute_result",
          "data": {
            "text/plain": [
              "[1.7327791452407837,\n",
              " 0.8119098544120789,\n",
              " 0.6861693859100342,\n",
              " 0.6683160066604614,\n",
              " 0.6709166765213013,\n",
              " 0.6682025790214539,\n",
              " 0.6617695093154907,\n",
              " 0.6685032844543457,\n",
              " 0.6640009880065918,\n",
              " 0.6668103933334351,\n",
              " 0.6729699373245239,\n",
              " 0.6647411584854126,\n",
              " 0.6664044857025146,\n",
              " 0.664609968662262,\n",
              " 0.6640472412109375,\n",
              " 0.6638241410255432,\n",
              " 0.6688245534896851,\n",
              " 0.6622700095176697,\n",
              " 0.6638753414154053,\n",
              " 0.6660266518592834,\n",
              " 0.6573025584220886,\n",
              " 0.6614587306976318,\n",
              " 0.6624158024787903,\n",
              " 0.6556462645530701,\n",
              " 0.6611027121543884,\n",
              " 0.6622620820999146,\n",
              " 0.6569915413856506,\n",
              " 0.6591385006904602,\n",
              " 0.65961092710495,\n",
              " 0.654067873954773,\n",
              " 0.6599331498146057,\n",
              " 0.6657239198684692,\n",
              " 0.6959638595581055,\n",
              " 0.6939660310745239,\n",
              " 0.6938934326171875,\n",
              " 0.694068968296051,\n",
              " 0.6941682696342468,\n",
              " 0.6942384839057922,\n",
              " 0.6943840384483337,\n",
              " 0.6944787502288818,\n",
              " 0.6944926977157593,\n",
              " 0.6946994662284851,\n",
              " 0.6946783065795898,\n",
              " 0.6948668360710144,\n",
              " 0.6948359608650208,\n",
              " 0.6949292421340942,\n",
              " 0.6949821710586548,\n",
              " 0.6950452923774719,\n",
              " 0.6951332688331604,\n",
              " 0.6951169371604919,\n",
              " 0.6952531933784485,\n",
              " 0.6952174305915833,\n",
              " 0.6953395009040833,\n",
              " 0.6952858567237854,\n",
              " 0.6953330039978027,\n",
              " 0.6953414678573608,\n",
              " 0.6954494714736938,\n",
              " 0.6954424977302551,\n",
              " 0.6954400539398193,\n",
              " 0.6955046057701111,\n",
              " 0.6955181956291199,\n",
              " 0.6954836249351501,\n",
              " 0.6955475211143494,\n",
              " 0.6955240964889526,\n",
              " 0.6955828070640564,\n",
              " 0.6955606341362,\n",
              " 0.6955554485321045,\n",
              " 0.6955991387367249,\n",
              " 0.6956568956375122,\n",
              " 0.6956980228424072,\n",
              " 0.6956341862678528,\n",
              " 0.6956584453582764,\n",
              " 0.6957103610038757,\n",
              " 0.6956995129585266,\n",
              " 0.6957665085792542,\n",
              " 0.6957390308380127,\n",
              " 0.6957353353500366,\n",
              " 0.6957279443740845,\n",
              " 0.6957077383995056,\n",
              " 0.6957389116287231,\n",
              " 0.6957591772079468,\n",
              " 0.6957120895385742,\n",
              " 0.69572913646698,\n",
              " 0.6957190632820129,\n",
              " 0.6957598328590393,\n",
              " 0.6958173513412476,\n",
              " 0.6957722902297974,\n",
              " 0.6957686543464661,\n",
              " 0.6957617998123169,\n",
              " 0.6957442164421082,\n",
              " 0.6958075165748596,\n",
              " 0.6957923769950867,\n",
              " 0.6957443356513977,\n",
              " 0.6958479285240173,\n",
              " 0.6957908868789673,\n",
              " 0.6958107948303223,\n",
              " 0.6957989931106567,\n",
              " 0.6957653760910034,\n",
              " 0.6958042979240417,\n",
              " 0.6958439350128174]"
            ]
          },
          "metadata": {},
          "execution_count": 229
        }
      ]
    },
    {
      "cell_type": "code",
      "source": [
        "# Visualize accuracy and loss for train and validation data\n",
        "\n",
        "acc = history.history['accuracy']\n",
        "val_acc = history.history['val_accuracy']\n",
        "loss = history.history['loss']\n",
        "val_loss = history.history['val_loss']\n",
        "epochs = range(1, len(acc) + 1)\n",
        "\n",
        "plt.title('Training and validation accuracy')\n",
        "plt.plot(epochs, acc, 'red', label='Training acc')\n",
        "plt.plot(epochs, val_acc, 'blue', label='Validation acc')\n",
        "plt.legend()\n",
        "\n",
        "plt.figure()\n",
        "plt.title('Training and validation loss')\n",
        "plt.plot(epochs, loss, 'red', label='Training loss')\n",
        "plt.plot(epochs, val_loss, 'blue', label='Validation loss')\n",
        "\n",
        "plt.legend()\n",
        "plt.show()"
      ],
      "metadata": {
        "colab": {
          "base_uri": "https://localhost:8080/",
          "height": 545
        },
        "id": "zAtNdIinVLYK",
        "outputId": "7218f83f-4cc9-4186-b5c6-4e3999a8a671"
      },
      "execution_count": null,
      "outputs": [
        {
          "output_type": "display_data",
          "data": {
            "image/png": "[encoded data removed]",
            "text/plain": [
              "<Figure size 432x288 with 1 Axes>"
            ]
          },
          "metadata": {
            "needs_background": "light"
          }
        },
        {
          "output_type": "display_data",
          "data": {
            "image/png": "[encoded data removed]",
            "text/plain": [
              "<Figure size 432x288 with 1 Axes>"
            ]
          },
          "metadata": {
            "needs_background": "light"
          }
        }
      ]
    },
    {
      "cell_type": "markdown",
      "source": [
        "These are the result of the model after doing some optimization, These are the best result that I got, I honestly don't know why this could happend, I've tried to change all of the parameters and also change the activation function but it doesn't make the result convergent. The model clearly not stable with a new data. My indication on this case is on the features that I used or the parameters that is not fit enough to find the optimum score."
      ],
      "metadata": {
        "id": "Mqa-6MeFXyF-"
      }
    },
    {
      "cell_type": "markdown",
      "source": [
        "#Save Model"
      ],
      "metadata": {
        "id": "VPUbgRiKhu1U"
      }
    },
    {
      "cell_type": "code",
      "source": [
        "model.save(\"model.h5\")"
      ],
      "metadata": {
        "id": "NZAtg1I-hwo5"
      },
      "execution_count": null,
      "outputs": []
    },
    {
      "cell_type": "markdown",
      "source": [
        "#Model Prediction"
      ],
      "metadata": {
        "id": "0AvVfKuUpStk"
      }
    },
    {
      "cell_type": "code",
      "source": [
        "res = model.predict(X_val)\n",
        "res"
      ],
      "metadata": {
        "colab": {
          "base_uri": "https://localhost:8080/"
        },
        "id": "pG9nelfSpUCK",
        "outputId": "0968f175-7e90-45c9-bbb1-2d43c8d898dc"
      },
      "execution_count": null,
      "outputs": [
        {
          "output_type": "execute_result",
          "data": {
            "text/plain": [
              "array([[0.6177279],\n",
              "       [0.6177279],\n",
              "       [0.6177279],\n",
              "       [0.6177279],\n",
              "       [0.6177279],\n",
              "       [0.6177279],\n",
              "       [0.6177279],\n",
              "       [0.6177279],\n",
              "       [0.6177279],\n",
              "       [0.6177279],\n",
              "       [0.6177279],\n",
              "       [0.6177279],\n",
              "       [0.6177279],\n",
              "       [0.6177279],\n",
              "       [0.6177279],\n",
              "       [0.6177279],\n",
              "       [0.6177279],\n",
              "       [0.6177279],\n",
              "       [0.6177279],\n",
              "       [0.6177279],\n",
              "       [0.6177279],\n",
              "       [0.6177279],\n",
              "       [0.6177279],\n",
              "       [0.6177279],\n",
              "       [0.6177279],\n",
              "       [0.6177279],\n",
              "       [0.6177279],\n",
              "       [0.6177279],\n",
              "       [0.6177279],\n",
              "       [0.6177279],\n",
              "       [0.6177279],\n",
              "       [0.6177279],\n",
              "       [0.6177279],\n",
              "       [0.6177279],\n",
              "       [0.6177279],\n",
              "       [0.6177279],\n",
              "       [0.6177279],\n",
              "       [0.6177279],\n",
              "       [0.6177279],\n",
              "       [0.6177279],\n",
              "       [0.6177279],\n",
              "       [0.6177279],\n",
              "       [0.6177279],\n",
              "       [0.6177279],\n",
              "       [0.6177279],\n",
              "       [0.6177279],\n",
              "       [0.6177279],\n",
              "       [0.6177279],\n",
              "       [0.6177279],\n",
              "       [0.6177279],\n",
              "       [0.6177279],\n",
              "       [0.6177279],\n",
              "       [0.6177279],\n",
              "       [0.6177279],\n",
              "       [0.6177279],\n",
              "       [0.6177279],\n",
              "       [0.6177279],\n",
              "       [0.6177279],\n",
              "       [0.6177279],\n",
              "       [0.6177279],\n",
              "       [0.6177279],\n",
              "       [0.6177279],\n",
              "       [0.6177279],\n",
              "       [0.6177279],\n",
              "       [0.6177279],\n",
              "       [0.6177279],\n",
              "       [0.6177279],\n",
              "       [0.6177279],\n",
              "       [0.6177279],\n",
              "       [0.6177279],\n",
              "       [0.6177279],\n",
              "       [0.6177279],\n",
              "       [0.6177279],\n",
              "       [0.6177279],\n",
              "       [0.6177279],\n",
              "       [0.6177279],\n",
              "       [0.6177279],\n",
              "       [0.6177279],\n",
              "       [0.6177279],\n",
              "       [0.6177279],\n",
              "       [0.6177279],\n",
              "       [0.6177279],\n",
              "       [0.6177279],\n",
              "       [0.6177279],\n",
              "       [0.6177279],\n",
              "       [0.6177279],\n",
              "       [0.6177279],\n",
              "       [0.6177279],\n",
              "       [0.6177279],\n",
              "       [0.6177279],\n",
              "       [0.6177279],\n",
              "       [0.6177279],\n",
              "       [0.6177279],\n",
              "       [0.6177279],\n",
              "       [0.6177279],\n",
              "       [0.6177279],\n",
              "       [0.6177279],\n",
              "       [0.6177279],\n",
              "       [0.6177279],\n",
              "       [0.6177279],\n",
              "       [0.6177279],\n",
              "       [0.6177279],\n",
              "       [0.6177279],\n",
              "       [0.6177279],\n",
              "       [0.6177279],\n",
              "       [0.6177279],\n",
              "       [0.6177279],\n",
              "       [0.6177279],\n",
              "       [0.6177279],\n",
              "       [0.6177279],\n",
              "       [0.6177279],\n",
              "       [0.6177279],\n",
              "       [0.6177279],\n",
              "       [0.6177279],\n",
              "       [0.6177279],\n",
              "       [0.6177279],\n",
              "       [0.6177279],\n",
              "       [0.6177279],\n",
              "       [0.6177279],\n",
              "       [0.6177279],\n",
              "       [0.6177279],\n",
              "       [0.6177279],\n",
              "       [0.6177279],\n",
              "       [0.6177279],\n",
              "       [0.6177279],\n",
              "       [0.6177279],\n",
              "       [0.6177279],\n",
              "       [0.6177279],\n",
              "       [0.6177279],\n",
              "       [0.6177279],\n",
              "       [0.6177279],\n",
              "       [0.6177279],\n",
              "       [0.6177279],\n",
              "       [0.6177279],\n",
              "       [0.6177279],\n",
              "       [0.6177279],\n",
              "       [0.6177279],\n",
              "       [0.6177279],\n",
              "       [0.6177279],\n",
              "       [0.6177279],\n",
              "       [0.6177279],\n",
              "       [0.6177279],\n",
              "       [0.6177279],\n",
              "       [0.6177279],\n",
              "       [0.6177279],\n",
              "       [0.6177279],\n",
              "       [0.6177279],\n",
              "       [0.6177279],\n",
              "       [0.6177279],\n",
              "       [0.6177279],\n",
              "       [0.6177279],\n",
              "       [0.6177279],\n",
              "       [0.6177279],\n",
              "       [0.6177279],\n",
              "       [0.6177279],\n",
              "       [0.6177279],\n",
              "       [0.6177279],\n",
              "       [0.6177279],\n",
              "       [0.6177279],\n",
              "       [0.6177279],\n",
              "       [0.6177279],\n",
              "       [0.6177279],\n",
              "       [0.6177279],\n",
              "       [0.6177279],\n",
              "       [0.6177279],\n",
              "       [0.6177279],\n",
              "       [0.6177279],\n",
              "       [0.6177279],\n",
              "       [0.6177279],\n",
              "       [0.6177279],\n",
              "       [0.6177279],\n",
              "       [0.6177279],\n",
              "       [0.6177279],\n",
              "       [0.6177279],\n",
              "       [0.6177279],\n",
              "       [0.6177279],\n",
              "       [0.6177279],\n",
              "       [0.6177279],\n",
              "       [0.6177279],\n",
              "       [0.6177279],\n",
              "       [0.6177279],\n",
              "       [0.6177279],\n",
              "       [0.6177279],\n",
              "       [0.6177279],\n",
              "       [0.6177279],\n",
              "       [0.6177279],\n",
              "       [0.6177279],\n",
              "       [0.6177279],\n",
              "       [0.6177279],\n",
              "       [0.6177279],\n",
              "       [0.6177279],\n",
              "       [0.6177279],\n",
              "       [0.6177279],\n",
              "       [0.6177279],\n",
              "       [0.6177279],\n",
              "       [0.6177279],\n",
              "       [0.6177279],\n",
              "       [0.6177279],\n",
              "       [0.6177279],\n",
              "       [0.6177279],\n",
              "       [0.6177279],\n",
              "       [0.6177279],\n",
              "       [0.6177279],\n",
              "       [0.6177279],\n",
              "       [0.6177279],\n",
              "       [0.6177279],\n",
              "       [0.6177279],\n",
              "       [0.6177279],\n",
              "       [0.6177279],\n",
              "       [0.6177279],\n",
              "       [0.6177279],\n",
              "       [0.6177279],\n",
              "       [0.6177279],\n",
              "       [0.6177279],\n",
              "       [0.6177279],\n",
              "       [0.6177279],\n",
              "       [0.6177279],\n",
              "       [0.6177279],\n",
              "       [0.6177279],\n",
              "       [0.6177279],\n",
              "       [0.6177279],\n",
              "       [0.6177279],\n",
              "       [0.6177279],\n",
              "       [0.6177279],\n",
              "       [0.6177279],\n",
              "       [0.6177279],\n",
              "       [0.6177279],\n",
              "       [0.6177279],\n",
              "       [0.6177279],\n",
              "       [0.6177279],\n",
              "       [0.6177279],\n",
              "       [0.6177279],\n",
              "       [0.6177279],\n",
              "       [0.6177279],\n",
              "       [0.6177279],\n",
              "       [0.6177279],\n",
              "       [0.6177279],\n",
              "       [0.6177279],\n",
              "       [0.6177279],\n",
              "       [0.6177279],\n",
              "       [0.6177279],\n",
              "       [0.6177279],\n",
              "       [0.6177279],\n",
              "       [0.6177279],\n",
              "       [0.6177279],\n",
              "       [0.6177279],\n",
              "       [0.6177279],\n",
              "       [0.6177279],\n",
              "       [0.6177279],\n",
              "       [0.6177279],\n",
              "       [0.6177279],\n",
              "       [0.6177279],\n",
              "       [0.6177279],\n",
              "       [0.6177279],\n",
              "       [0.6177279],\n",
              "       [0.6177279],\n",
              "       [0.6177279],\n",
              "       [0.6177279],\n",
              "       [0.6177279],\n",
              "       [0.6177279],\n",
              "       [0.6177279],\n",
              "       [0.6177279],\n",
              "       [0.6177279],\n",
              "       [0.6177279],\n",
              "       [0.6177279]], dtype=float32)"
            ]
          },
          "metadata": {},
          "execution_count": 232
        }
      ]
    },
    {
      "cell_type": "code",
      "source": [
        "##bikin threshold\n",
        "thres = 0.5\n",
        "res = (res > thres).T\n",
        "res"
      ],
      "metadata": {
        "colab": {
          "base_uri": "https://localhost:8080/"
        },
        "id": "YUVi9wAppXLE",
        "outputId": "79a431df-0e90-4c21-8428-e27fa49afcd2"
      },
      "execution_count": null,
      "outputs": [
        {
          "output_type": "execute_result",
          "data": {
            "text/plain": [
              "array([[ True,  True,  True,  True,  True,  True,  True,  True,  True,\n",
              "         True,  True,  True,  True,  True,  True,  True,  True,  True,\n",
              "         True,  True,  True,  True,  True,  True,  True,  True,  True,\n",
              "         True,  True,  True,  True,  True,  True,  True,  True,  True,\n",
              "         True,  True,  True,  True,  True,  True,  True,  True,  True,\n",
              "         True,  True,  True,  True,  True,  True,  True,  True,  True,\n",
              "         True,  True,  True,  True,  True,  True,  True,  True,  True,\n",
              "         True,  True,  True,  True,  True,  True,  True,  True,  True,\n",
              "         True,  True,  True,  True,  True,  True,  True,  True,  True,\n",
              "         True,  True,  True,  True,  True,  True,  True,  True,  True,\n",
              "         True,  True,  True,  True,  True,  True,  True,  True,  True,\n",
              "         True,  True,  True,  True,  True,  True,  True,  True,  True,\n",
              "         True,  True,  True,  True,  True,  True,  True,  True,  True,\n",
              "         True,  True,  True,  True,  True,  True,  True,  True,  True,\n",
              "         True,  True,  True,  True,  True,  True,  True,  True,  True,\n",
              "         True,  True,  True,  True,  True,  True,  True,  True,  True,\n",
              "         True,  True,  True,  True,  True,  True,  True,  True,  True,\n",
              "         True,  True,  True,  True,  True,  True,  True,  True,  True,\n",
              "         True,  True,  True,  True,  True,  True,  True,  True,  True,\n",
              "         True,  True,  True,  True,  True,  True,  True,  True,  True,\n",
              "         True,  True,  True,  True,  True,  True,  True,  True,  True,\n",
              "         True,  True,  True,  True,  True,  True,  True,  True,  True,\n",
              "         True,  True,  True,  True,  True,  True,  True,  True,  True,\n",
              "         True,  True,  True,  True,  True,  True,  True,  True,  True,\n",
              "         True,  True,  True,  True,  True,  True,  True,  True,  True,\n",
              "         True,  True,  True,  True,  True,  True,  True,  True,  True,\n",
              "         True,  True,  True,  True,  True,  True,  True,  True,  True,\n",
              "         True,  True,  True,  True,  True,  True,  True,  True,  True,\n",
              "         True,  True,  True,  True,  True,  True,  True,  True,  True,\n",
              "         True,  True,  True,  True]])"
            ]
          },
          "metadata": {},
          "execution_count": 233
        }
      ]
    },
    {
      "cell_type": "code",
      "source": [
        "res = res.astype(int)[0]\n",
        "res"
      ],
      "metadata": {
        "colab": {
          "base_uri": "https://localhost:8080/"
        },
        "id": "VRHZwpbjpd4k",
        "outputId": "c203282d-db9f-46b5-ef26-144ea29913dd"
      },
      "execution_count": null,
      "outputs": [
        {
          "output_type": "execute_result",
          "data": {
            "text/plain": [
              "array([1, 1, 1, 1, 1, 1, 1, 1, 1, 1, 1, 1, 1, 1, 1, 1, 1, 1, 1, 1, 1, 1,\n",
              "       1, 1, 1, 1, 1, 1, 1, 1, 1, 1, 1, 1, 1, 1, 1, 1, 1, 1, 1, 1, 1, 1,\n",
              "       1, 1, 1, 1, 1, 1, 1, 1, 1, 1, 1, 1, 1, 1, 1, 1, 1, 1, 1, 1, 1, 1,\n",
              "       1, 1, 1, 1, 1, 1, 1, 1, 1, 1, 1, 1, 1, 1, 1, 1, 1, 1, 1, 1, 1, 1,\n",
              "       1, 1, 1, 1, 1, 1, 1, 1, 1, 1, 1, 1, 1, 1, 1, 1, 1, 1, 1, 1, 1, 1,\n",
              "       1, 1, 1, 1, 1, 1, 1, 1, 1, 1, 1, 1, 1, 1, 1, 1, 1, 1, 1, 1, 1, 1,\n",
              "       1, 1, 1, 1, 1, 1, 1, 1, 1, 1, 1, 1, 1, 1, 1, 1, 1, 1, 1, 1, 1, 1,\n",
              "       1, 1, 1, 1, 1, 1, 1, 1, 1, 1, 1, 1, 1, 1, 1, 1, 1, 1, 1, 1, 1, 1,\n",
              "       1, 1, 1, 1, 1, 1, 1, 1, 1, 1, 1, 1, 1, 1, 1, 1, 1, 1, 1, 1, 1, 1,\n",
              "       1, 1, 1, 1, 1, 1, 1, 1, 1, 1, 1, 1, 1, 1, 1, 1, 1, 1, 1, 1, 1, 1,\n",
              "       1, 1, 1, 1, 1, 1, 1, 1, 1, 1, 1, 1, 1, 1, 1, 1, 1, 1, 1, 1, 1, 1,\n",
              "       1, 1, 1, 1, 1, 1, 1, 1, 1, 1, 1, 1, 1, 1, 1, 1, 1, 1, 1, 1, 1, 1,\n",
              "       1])"
            ]
          },
          "metadata": {},
          "execution_count": 234
        }
      ]
    },
    {
      "cell_type": "code",
      "source": [
        "from sklearn.metrics import classification_report\n",
        "print(classification_report(y_val, res))"
      ],
      "metadata": {
        "colab": {
          "base_uri": "https://localhost:8080/"
        },
        "id": "g5wVaDuyo-06",
        "outputId": "ed2b4799-b715-489a-ce73-37b427dcfbc6"
      },
      "execution_count": null,
      "outputs": [
        {
          "output_type": "stream",
          "name": "stdout",
          "text": [
            "              precision    recall  f1-score   support\n",
            "\n",
            "           0       0.00      0.00      0.00       195\n",
            "           1       0.26      1.00      0.42        70\n",
            "\n",
            "    accuracy                           0.26       265\n",
            "   macro avg       0.13      0.50      0.21       265\n",
            "weighted avg       0.07      0.26      0.11       265\n",
            "\n"
          ]
        }
      ]
    },
    {
      "cell_type": "markdown",
      "source": [
        "From the F1 Score and other metrics obviously will have a bad score"
      ],
      "metadata": {
        "id": "zi86fBXafd81"
      }
    },
    {
      "cell_type": "markdown",
      "source": [
        "#Model Inference"
      ],
      "metadata": {
        "id": "NUDOL_fFdGXb"
      }
    },
    {
      "cell_type": "code",
      "source": [
        "data = X_test[:1]\n",
        "data"
      ],
      "metadata": {
        "colab": {
          "base_uri": "https://localhost:8080/",
          "height": 81
        },
        "id": "3wQeYIIPdu-X",
        "outputId": "3fbf0fe4-7885-4034-ab29-887e0d1bfefc"
      },
      "execution_count": null,
      "outputs": [
        {
          "output_type": "execute_result",
          "data": {
            "text/html": [
              "\n",
              "  <div id=\"df-aaccd148-cb0c-4048-8e47-a986eb1773cd\">\n",
              "    <div class=\"colab-df-container\">\n",
              "      <div>\n",
              "<style scoped>\n",
              "    .dataframe tbody tr th:only-of-type {\n",
              "        vertical-align: middle;\n",
              "    }\n",
              "\n",
              "    .dataframe tbody tr th {\n",
              "        vertical-align: top;\n",
              "    }\n",
              "\n",
              "    .dataframe thead th {\n",
              "        text-align: right;\n",
              "    }\n",
              "</style>\n",
              "<table border=\"1\" class=\"dataframe\">\n",
              "  <thead>\n",
              "    <tr style=\"text-align: right;\">\n",
              "      <th></th>\n",
              "      <th>TotalCharges</th>\n",
              "      <th>tenure</th>\n",
              "      <th>MonthlyCharges</th>\n",
              "      <th>Month-to-month</th>\n",
              "      <th>One year</th>\n",
              "      <th>Two year</th>\n",
              "      <th>DSL</th>\n",
              "      <th>Fiber optic</th>\n",
              "      <th>No</th>\n",
              "      <th>No</th>\n",
              "      <th>No internet service</th>\n",
              "      <th>Yes</th>\n",
              "    </tr>\n",
              "  </thead>\n",
              "  <tbody>\n",
              "    <tr>\n",
              "      <th>5909</th>\n",
              "      <td>4297.6</td>\n",
              "      <td>52</td>\n",
              "      <td>80.2</td>\n",
              "      <td>0</td>\n",
              "      <td>1</td>\n",
              "      <td>0</td>\n",
              "      <td>0</td>\n",
              "      <td>1</td>\n",
              "      <td>0</td>\n",
              "      <td>1</td>\n",
              "      <td>0</td>\n",
              "      <td>0</td>\n",
              "    </tr>\n",
              "  </tbody>\n",
              "</table>\n",
              "</div>\n",
              "      <button class=\"colab-df-convert\" onclick=\"convertToInteractive('df-aaccd148-cb0c-4048-8e47-a986eb1773cd')\"\n",
              "              title=\"Convert this dataframe to an interactive table.\"\n",
              "              style=\"display:none;\">\n",
              "        \n",
              "  <svg xmlns=\"http://www.w3.org/2000/svg\" height=\"24px\"viewBox=\"0 0 24 24\"\n",
              "       width=\"24px\">\n",
              "    <path d=\"M0 0h24v24H0V0z\" fill=\"none\"/>\n",
              "    <path d=\"M18.56 5.44l.94 2.06.94-2.06 2.06-.94-2.06-.94-.94-2.06-.94 2.06-2.06.94zm-11 1L8.5 8.5l.94-2.06 2.06-.94-2.06-.94L8.5 2.5l-.94 2.06-2.06.94zm10 10l.94 2.06.94-2.06 2.06-.94-2.06-.94-.94-2.06-.94 2.06-2.06.94z\"/><path d=\"M17.41 7.96l-1.37-1.37c-.4-.4-.92-.59-1.43-.59-.52 0-1.04.2-1.43.59L10.3 9.45l-7.72 7.72c-.78.78-.78 2.05 0 2.83L4 21.41c.39.39.9.59 1.41.59.51 0 1.02-.2 1.41-.59l7.78-7.78 2.81-2.81c.8-.78.8-2.07 0-2.86zM5.41 20L4 18.59l7.72-7.72 1.47 1.35L5.41 20z\"/>\n",
              "  </svg>\n",
              "      </button>\n",
              "      \n",
              "  <style>\n",
              "    .colab-df-container {\n",
              "      display:flex;\n",
              "      flex-wrap:wrap;\n",
              "      gap: 12px;\n",
              "    }\n",
              "\n",
              "    .colab-df-convert {\n",
              "      background-color: #E8F0FE;\n",
              "      border: none;\n",
              "      border-radius: 50%;\n",
              "      cursor: pointer;\n",
              "      display: none;\n",
              "      fill: #1967D2;\n",
              "      height: 32px;\n",
              "      padding: 0 0 0 0;\n",
              "      width: 32px;\n",
              "    }\n",
              "\n",
              "    .colab-df-convert:hover {\n",
              "      background-color: #E2EBFA;\n",
              "      box-shadow: 0px 1px 2px rgba(60, 64, 67, 0.3), 0px 1px 3px 1px rgba(60, 64, 67, 0.15);\n",
              "      fill: #174EA6;\n",
              "    }\n",
              "\n",
              "    [theme=dark] .colab-df-convert {\n",
              "      background-color: #3B4455;\n",
              "      fill: #D2E3FC;\n",
              "    }\n",
              "\n",
              "    [theme=dark] .colab-df-convert:hover {\n",
              "      background-color: #434B5C;\n",
              "      box-shadow: 0px 1px 3px 1px rgba(0, 0, 0, 0.15);\n",
              "      filter: drop-shadow(0px 1px 2px rgba(0, 0, 0, 0.3));\n",
              "      fill: #FFFFFF;\n",
              "    }\n",
              "  </style>\n",
              "\n",
              "      <script>\n",
              "        const buttonEl =\n",
              "          document.querySelector('#df-aaccd148-cb0c-4048-8e47-a986eb1773cd button.colab-df-convert');\n",
              "        buttonEl.style.display =\n",
              "          google.colab.kernel.accessAllowed ? 'block' : 'none';\n",
              "\n",
              "        async function convertToInteractive(key) {\n",
              "          const element = document.querySelector('#df-aaccd148-cb0c-4048-8e47-a986eb1773cd');\n",
              "          const dataTable =\n",
              "            await google.colab.kernel.invokeFunction('convertToInteractive',\n",
              "                                                     [key], {});\n",
              "          if (!dataTable) return;\n",
              "\n",
              "          const docLinkHtml = 'Like what you see? Visit the ' +\n",
              "            '<a target=\"_blank\" href=https://colab.research.google.com/notebooks/data_table.ipynb>data table notebook</a>'\n",
              "            + ' to learn more about interactive tables.';\n",
              "          element.innerHTML = '';\n",
              "          dataTable['output_type'] = 'display_data';\n",
              "          await google.colab.output.renderOutput(dataTable, element);\n",
              "          const docLink = document.createElement('div');\n",
              "          docLink.innerHTML = docLinkHtml;\n",
              "          element.appendChild(docLink);\n",
              "        }\n",
              "      </script>\n",
              "    </div>\n",
              "  </div>\n",
              "  "
            ],
            "text/plain": [
              "      TotalCharges  tenure  MonthlyCharges  ...  No  No internet service  Yes\n",
              "5909        4297.6      52            80.2  ...   1                    0    0\n",
              "\n",
              "[1 rows x 12 columns]"
            ]
          },
          "metadata": {},
          "execution_count": 236
        }
      ]
    },
    {
      "cell_type": "code",
      "source": [
        "data = tf.convert_to_tensor(data)\n",
        "data = data.numpy()"
      ],
      "metadata": {
        "id": "dSsNu3GbnkNs"
      },
      "execution_count": null,
      "outputs": []
    },
    {
      "cell_type": "code",
      "source": [
        "res = model.predict(data)\n",
        "res.argmax()"
      ],
      "metadata": {
        "id": "Vdf5y37en-X8",
        "colab": {
          "base_uri": "https://localhost:8080/"
        },
        "outputId": "0118fcd2-8662-44a6-fa47-ec43e27ba907"
      },
      "execution_count": null,
      "outputs": [
        {
          "output_type": "execute_result",
          "data": {
            "text/plain": [
              "0"
            ]
          },
          "metadata": {},
          "execution_count": 238
        }
      ]
    },
    {
      "cell_type": "markdown",
      "source": [
        "#Conclusion\n",
        "\n",
        "---\n",
        "\n",
        "Using Telco customer churn dataset, we have not succeeded in predicting will customer churn.\n",
        "\n",
        "From the EDA, we get that, \n",
        "\n",
        "* There were about 26.5% of customers who changed to another provider\n",
        "\n",
        "* The target variable seems quite imbalance, we will consider it while processing the data\n",
        "\n",
        "*  Customer with fiber optic internet service likely churn\n",
        "\n",
        "* Customer that doesn't have device protection likely to churn\n",
        "\n",
        "* Contract with month to month contract is highly churn, we will consider it as one of the future\n",
        "\n",
        "* There is no high correlation between the numeric features\n",
        "\n",
        "Both base model and optimize model are not at good fit. This could be caused by the input features and the parameters that we used.\n"
      ],
      "metadata": {
        "id": "U26qQuuaflgs"
      }
    },
    {
      "cell_type": "markdown",
      "source": [
        "#Future Work\n",
        "\n",
        "---\n",
        "\n",
        "If I have enough time, I would inspect the correlation between the categorical features so the result could be better and also try different parameters and activation function to find the best optimum reuslt."
      ],
      "metadata": {
        "id": "IsWNunT1jXH1"
      }
    }
  ]
}